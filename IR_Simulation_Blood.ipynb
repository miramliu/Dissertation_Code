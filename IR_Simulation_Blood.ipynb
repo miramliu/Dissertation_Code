{
 "cells": [
  {
   "cell_type": "code",
   "execution_count": 3,
   "metadata": {},
   "outputs": [],
   "source": [
    "import numpy as np\n",
    "import matplotlib\n",
    "import matplotlib.pyplot as pl\n",
    "%matplotlib inline\n",
    "import csv\n",
    "import scipy.optimize as op\n",
    "import scipy.stats\n",
    "from scipy.optimize import curve_fit\n",
    "import scipy.io\n",
    "from scipy.stats import rice\n",
    "\n",
    "import random\n",
    "import pickle\n",
    "import seaborn as sns\n",
    "\n",
    "import numpy as np\n",
    "from scipy.stats import ttest_ind, ttest_ind_from_stats, wilcoxon,ttest_rel, pearsonr\n",
    "from scipy.special import stdtr\n",
    "import csv\n",
    "import pandas as pd\n",
    "\n",
    "import sys \n",
    "import os\n",
    "sys.path.append(os.path.abspath(\"/Users/neuroimaging/Desktop/MR-code/Python_Code\"))\n",
    "from Data20200706 import *"
   ]
  },
  {
   "cell_type": "markdown",
   "metadata": {},
   "source": [
    "$$0 =  1-2e^{-\\frac{T_{null}}{T1}} + e^{-\\frac{TR}{T1}}$$\n",
    "$$-\\frac{T_{null}}{T1} = \\ln{\\frac{1}{2}} + \\ln{\\Big(1 + e^{-\\frac{TR}{T1}}\\Big)}  $$\n",
    "$$ T_{null} = T1\\times\\left[\\ln{2} + \\ln{\\Big(1 +e^{-\\frac{TR}{T1}}\\Big) } \\right]$$\n",
    "\n",
    "$$ M_0 = 1-2e^{-\\frac{IR}{T1}} + e^{-\\frac{TR}{T1}}$$\n",
    "\n",
    "\n",
    "### With T1 & T2 effects\n",
    "$$ S(t) = \\left(1-2e^{-\\frac{IR}{T1}} + e^{-\\frac{TR}{T1}}\\right)e^{-\\frac{TE}{T2}}$$\n",
    "\n",
    "\n",
    "### With only T1 effects\n",
    "$$ S(t) = 1-2e^{-\\frac{IR}{T1}} + e^{-\\frac{TR}{T1}}$$\n",
    "\n"
   ]
  },
  {
   "cell_type": "code",
   "execution_count": 4,
   "metadata": {},
   "outputs": [],
   "source": [
    "# T1 vals\n",
    "# from https://cds.ismrm.org/ismrm-2001/PDF5/1391.pdf, or from doi: 10.1002/mrm.24550\n",
    "# [mean, stdev]\n",
    "CSF = [4500, 263]\n",
    "blood = [1650, 70]\n",
    "blood_gd = [500, 70] #with Gd\n",
    "#wm = [790, 21]\n",
    "#gm = [1495, 119]\n",
    "\n",
    "# T2 vals\n",
    "# from https://www.ncbi.nlm.nih.gov/pmc/articles/PMC6786861/, https://renaissance.stonybrookmedicine.edu/sites/default/files/2012Jun_MAGMA_T1T2blood.pdf,https://www.researchgate.net/figure/T1-and-T2-relaxation-times-at-various-anatomical-regions-at-WM-and-GM-areas-in-the-very_tbl1_49686232 \n",
    "CSF_T2 = [50, 10]\n",
    "blood_T2 = [48,30] #arterial 50, venous 20 \n",
    "blood_T2_gd = [40,25] #Gd doesn't shorten T2 as much\n",
    "#wm_T2 = [237, 7]\n",
    "#gm_T2 = [159, 3]\n"
   ]
  },
  {
   "cell_type": "markdown",
   "metadata": {},
   "source": [
    "# Make a plot showing this with \n",
    "1) blood with only T1 \\\n",
    "2) blood with T1 and T2 \\\n",
    "3) CSF \\\n",
    "4) blood with a shorter T1 and T2 effects (not necessarily Gd.) with dropping T1 "
   ]
  },
  {
   "cell_type": "code",
   "execution_count": 5,
   "metadata": {},
   "outputs": [],
   "source": [
    "def T1_Only(t,T1,TR):\n",
    "    #assumed M0 = 1 for simplicity\n",
    "    Mz = (1-2*np.exp(-t/T1)+np.exp(-TR/T1))\n",
    "    return Mz\n",
    "\n",
    "def T1_and_T2(t,T1,TR,TE,T2):\n",
    "    #assumed M0 = 1 for simplicity\n",
    "    Mz = (1-2*np.exp(-t/T1)+np.exp(-TR/T1))*np.exp(-TE/T2)\n",
    "    return Mz"
   ]
  },
  {
   "cell_type": "code",
   "execution_count": 2,
   "metadata": {},
   "outputs": [
    {
     "ename": "NameError",
     "evalue": "name 'np' is not defined",
     "output_type": "error",
     "traceback": [
      "\u001b[0;31m---------------------------------------------------------------------------\u001b[0m",
      "\u001b[0;31mNameError\u001b[0m                                 Traceback (most recent call last)",
      "\u001b[0;32m<ipython-input-2-7b22edb5a71f>\u001b[0m in \u001b[0;36m<module>\u001b[0;34m\u001b[0m\n\u001b[1;32m      1\u001b[0m \u001b[0;31m# For 1) blood with only T1\u001b[0m\u001b[0;34m\u001b[0m\u001b[0;34m\u001b[0m\u001b[0;34m\u001b[0m\u001b[0m\n\u001b[0;32m----> 2\u001b[0;31m \u001b[0mt\u001b[0m \u001b[0;34m=\u001b[0m \u001b[0mnp\u001b[0m\u001b[0;34m.\u001b[0m\u001b[0mlinspace\u001b[0m\u001b[0;34m(\u001b[0m\u001b[0;36m0\u001b[0m\u001b[0;34m,\u001b[0m\u001b[0;36m8000\u001b[0m\u001b[0;34m,\u001b[0m\u001b[0;36m200\u001b[0m\u001b[0;34m)\u001b[0m \u001b[0;31m#for 4 seconds\u001b[0m\u001b[0;34m\u001b[0m\u001b[0;34m\u001b[0m\u001b[0m\n\u001b[0m\u001b[1;32m      3\u001b[0m \u001b[0mTR\u001b[0m \u001b[0;34m=\u001b[0m \u001b[0;36m5000\u001b[0m \u001b[0;31m#in s\u001b[0m\u001b[0;34m\u001b[0m\u001b[0;34m\u001b[0m\u001b[0m\n\u001b[1;32m      4\u001b[0m \u001b[0mTE\u001b[0m \u001b[0;34m=\u001b[0m \u001b[0;36m37\u001b[0m \u001b[0;31m#in s\u001b[0m\u001b[0;34m\u001b[0m\u001b[0;34m\u001b[0m\u001b[0m\n\u001b[1;32m      5\u001b[0m \u001b[0;34m\u001b[0m\u001b[0m\n",
      "\u001b[0;31mNameError\u001b[0m: name 'np' is not defined"
     ]
    }
   ],
   "source": [
    "# For 1) blood with only T1\n",
    "t = np.linspace(0,8000,200) #for 4 seconds\n",
    "TR = 5000 #in s\n",
    "TE = 37 #in s\n",
    "\n",
    "T1 = blood[0] #in ms\n",
    "MT1_blood = T1_Only(t,T1,TR)\n",
    "pl.plot(t,MT1_blood,linestyle = '--',color = 'firebrick',label = 'Blood: Only T1 Effect')\n",
    "\n",
    "# For 1.5) CSF with only T1 effect\n",
    "T1 = CSF[0] #in ms\n",
    "MT1_blood = T1_Only(t,T1,TR)\n",
    "#pl.plot(t,MT1_blood,linestyle = '--',color = 'royalblue',label = 'CSF: Only T1 Effect')\n",
    "\n",
    "# For 2) blood with T1 and T2\n",
    "T1 = blood[0] #in ms\n",
    "T2 = blood_T2[0]\n",
    "MT1T2_blood = T1_and_T2(t,T1,TR,TE, T2)\n",
    "pl.plot(t,MT1T2_blood,linestyle = '-',color = 'firebrick',label = 'Blood: T1 & T2 Effect')\n",
    "\n",
    "\n",
    "# For 3) CSF with T1 and T2\n",
    "T1 = CSF[0] #in  ms\n",
    "T2 = CSF_T2[0]\n",
    "MT1T2_csf = T1_and_T2(t,T1,TR,TE, T2)\n",
    "pl.plot(t,MT1T2_csf,linestyle = '-',color = 'royalblue',label = 'CSF: T1 & T2 Effect')\n",
    "\n",
    "# For 4) Blood with shorter T1 but same T2\n",
    "T1 = blood_gd[0] #in ms\n",
    "T2 = blood_T2_gd[0]\n",
    "MT1T2_Gd = T1_and_T2(t,T1,TR,TE, T2)\n",
    "pl.plot(t,MT1T2_Gd,linestyle = '-',color = 'orange',label = 'Shortened Blood: T1 & T2 Effect')\n",
    "\n",
    "# x axis\n",
    "pl.axhline(y = 0,color = 'black')\n",
    "\n",
    "# IR time = 1850\n",
    "pl.axvline(x = 1850,color = 'grey',linestyle = ':',label = 'Time of CSF Suppression')\n",
    "\n",
    "pl.title('Signal of Blood and CSF')\n",
    "pl.xlabel('Inversion Time (ms)')\n",
    "pl.ylabel('Transverse Signal (arb)')\n",
    "pl.legend(bbox_to_anchor=(.5, .4),loc='upper left')\n",
    "pl.show()"
   ]
  },
  {
   "cell_type": "code",
   "execution_count": 7,
   "metadata": {},
   "outputs": [
    {
     "data": {
      "image/png": "[encoded data removed]",
      "text/plain": [
       "<Figure size 432x288 with 1 Axes>"
      ]
     },
     "metadata": {
      "needs_background": "light"
     },
     "output_type": "display_data"
    }
   ],
   "source": [
    "# For 1) blood with only T1\n",
    "t = np.linspace(0,8000,200) #for 4 seconds\n",
    "TR = 5000 #in s\n",
    "TE = 37 #in s\n",
    "\n",
    "T1 = blood[0] #in ms\n",
    "MT1_blood = T1_Only(t,T1,TR)\n",
    "pl.plot(t,MT1_blood,linestyle = '--',color = 'firebrick',label = 'Blood: Only T1 Effect')\n",
    "\n",
    "# For 1.5) CSF with only T1 effect\n",
    "T1 = CSF[0] #in ms\n",
    "MT1_blood = T1_Only(t,T1,TR)\n",
    "pl.plot(t,MT1_blood,linestyle = '--',color = 'royalblue',label = 'CSF: Only T1 Effect')\n",
    "\n",
    "# For 2) blood with T1 and T2\n",
    "T1 = blood[0] #in ms\n",
    "T2 = blood_T2[0]\n",
    "MT1T2_blood = T1_and_T2(t,T1,TR,TE, T2)\n",
    "pl.plot(t,MT1T2_blood,linestyle = '-',color = 'firebrick',label = 'Blood: T1 & T2 Effect')\n",
    "\n",
    "\n",
    "# For 3) CSF with T1 and T2\n",
    "T1 = CSF[0] #in  ms\n",
    "T2 = CSF_T2[0]\n",
    "MT1T2_csf = T1_and_T2(t,T1,TR,TE, T2)\n",
    "pl.plot(t,MT1T2_csf,linestyle = '-',color = 'royalblue',label = 'CSF: T1 & T2 Effect')\n",
    "\n",
    "# For 4) Blood with shorter T1 but same T2\n",
    "#T1 = blood_gd[0] #in ms\n",
    "#T2 = blood_T2_gd[0]\n",
    "#MT1T2_Gd = T1_and_T2(t,T1,TR,TE, T2)\n",
    "#pl.plot(t,MT1T2_Gd,linestyle = '-',color = 'orange',label = 'Shortened Blood: T1 & T2 Effect')\n",
    "\n",
    "# x axis\n",
    "pl.axhline(y = 0,color = 'black')\n",
    "\n",
    "# IR time = 1850\n",
    "pl.axvline(x = 1850,color = 'grey',linestyle = ':',label = 'Time of CSF Suppression')\n",
    "\n",
    "pl.title('Blood signal loss from IR Spin Echo')\n",
    "pl.ylabel('Fraction of Signal Remaining')\n",
    "pl.xlabel('Inversion Time (ms)')\n",
    "pl.legend(bbox_to_anchor=(.5, .4),loc='upper left')\n",
    "pl.savefig('/Users/neuroimaging/Desktop/IRSim.tif',dpi = 180)\n",
    "pl.show()"
   ]
  },
  {
   "cell_type": "code",
   "execution_count": 14,
   "metadata": {},
   "outputs": [
    {
     "name": "stdout",
     "output_type": "stream",
     "text": [
      "1849.246231155779\n",
      "0.04933687911795088\n"
     ]
    }
   ],
   "source": [
    "print(t[46])\n",
    "print(MT1T2_blood[46])"
   ]
  },
  {
   "cell_type": "code",
   "execution_count": null,
   "metadata": {},
   "outputs": [],
   "source": []
  }
 ],
 "metadata": {
  "kernelspec": {
   "display_name": "Python 3",
   "language": "python",
   "name": "python3"
  },
  "language_info": {
   "codemirror_mode": {
    "name": "ipython",
    "version": 3
   },
   "file_extension": ".py",
   "mimetype": "text/x-python",
   "name": "python",
   "nbconvert_exporter": "python",
   "pygments_lexer": "ipython3",
   "version": "3.7.4"
  }
 },
 "nbformat": 4,
 "nbformat_minor": 2
}
