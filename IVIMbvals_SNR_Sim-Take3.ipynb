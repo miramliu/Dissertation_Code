{
 "cells": [
  {
   "cell_type": "markdown",
   "metadata": {},
   "source": [
    "# 6/10/19 \n",
    "\n",
    "After reviewers comments about SNR versus Noise. SNR is not the same for all b values, but the NOISE is. So instead of SNR, just add constant rician noise and test results. \n",
    "\n",
    "To do this, must establish the noise measured. As in, from the SNR calculated what was the noise. "
   ]
  },
  {
   "cell_type": "code",
   "execution_count": 2,
   "metadata": {},
   "outputs": [],
   "source": [
    "import numpy as np\n",
    "import matplotlib\n",
    "import matplotlib.pyplot as pl\n",
    "%matplotlib inline\n",
    "import csv\n",
    "\n",
    "import scipy.optimize as op\n",
    "import scipy.stats\n",
    "from scipy.optimize import curve_fit\n",
    "import scipy.io\n",
    "from scipy.stats import rice\n",
    "\n",
    "import random\n",
    "import pickle"
   ]
  },
  {
   "cell_type": "markdown",
   "metadata": {},
   "source": [
    "# Simulation \n",
    "\n",
    "# Running with more steps! \n",
    "## also will include more b values, try and fix simple fit, and plot f, D* and D separately"
   ]
  },
  {
   "cell_type": "code",
   "execution_count": 3,
   "metadata": {},
   "outputs": [],
   "source": [
    "def random():\n",
    "    A = np.random.random()\n",
    "    B = np.random.random()\n",
    "    if B>=.5:\n",
    "        C = 1\n",
    "    else:\n",
    "        C = -1\n",
    "    return A*C    \n",
    "\n",
    "def Noise(I): #original noise function\n",
    "    N = []\n",
    "    for i in range(0,len(I)):\n",
    "        N.append(I[i]+(I[i]/10)*random())\n",
    "    return N\n",
    "\n",
    "def NoiseG(I):  #noise with gaussian distribution\n",
    "    N = []\n",
    "    for i in range(0,len(I)):\n",
    "        N.append(I[i] + (I[i]/10)*np.random.normal(0,1,1)[0])\n",
    "    return N\n",
    "\n",
    "def NoiseR(I): # noise with rician distribution\n",
    "    N = []\n",
    "    for i in range(0,len(I)):\n",
    "        g1 = np.random.normal(0,.5,1)\n",
    "        g2 = np.random.normal(0,.5,1)\n",
    "        R = np.sqrt(g1**2 + g2**2)[0]\n",
    "        N.append(I[i] +(I[i]/10)*R)\n",
    "    return N\n",
    "\n",
    "def func(b,f,Ds,D):\n",
    "    Sig = f*np.exp(-Ds*b)+(1-f)*np.exp(-D*b) #IVIM model signal\n",
    "    return Sig\n",
    "\n",
    "def func1(b,f,D):\n",
    "    return (1-f)*np.exp(-D*b)\n",
    "\n",
    "def func2(b,f,Ds):\n",
    "    return f*np.exp(-Ds*b)\n",
    "\n",
    "def percentdiff(A,B):\n",
    "    pd = 200*np.abs(A-B)/(A+B)\n",
    "    return pd\n",
    "\n",
    "def percenterr(T,M):\n",
    "    return 100*(T-M)/T\n",
    "\n",
    "def ivim(Bvals,f,Ds,D):\n",
    "    S = []\n",
    "    for i in range(len(Bvals)):\n",
    "        S.append(f*np.exp(-Ds*Bvals[i])+(1-f)*np.exp(-D*Bvals[i]))\n",
    "    return S\n",
    "\n",
    "B = [0,111, 222, 333, 444, 556, 667, 778, 889, 1000]\n",
    "def diffivim(Bvals,f,D): #high b values\n",
    "    S = []\n",
    "    for i in range(len(Bvals)):\n",
    "        S.append(func1(Bvals[i],f,D))\n",
    "    return S\n",
    "\n",
    "def plotfunc2(Bvals,f,Ds):\n",
    "    S = []\n",
    "    for i in range(len(Bvals)):\n",
    "        S.append(func2(Bvals[i],f,Ds))\n",
    "    return S\n",
    "# now comparing different fits (just to get pretty plot)\n",
    "B = [0,111, 222, 333, 444, 556, 667, 778, 889, 1000]\n",
    "def twostepfit(IVIM,Bvals,B_500): #for Fine B vals\n",
    "    p01 = [0.05,.0009] #f,D best\n",
    "    p02 = [0.05,.009] #f,Ds best\n",
    "    popt,pcov = op.curve_fit(func1,Bvals[B_500:],IVIM[B_500:], p01,bounds = (0,[1,1]))\n",
    "    fF = popt[0]\n",
    "    DF = popt[1]\n",
    "    IVIM2 = np.array(IVIM) - np.array(diffivim(Bvals,fF,DF))\n",
    "    popt,pcov = op.curve_fit(func2,Bvals[:B_500-1],IVIM2[:B_500-1], p02,bounds = (0,[1,1]))\n",
    "    fF2 = popt[0]\n",
    "    DsF = popt[1]\n",
    "    return [fF2,DsF,DF]\n",
    "\n",
    "def splitfit(IVIM,Bvals,B_500): #B_500 is the index of the b value that is >=500 (13)\n",
    "    #p01 = [.02,.0058] #f,D\n",
    "    p01 = [.05,.0009]\n",
    "    popt,pcov = op.curve_fit(func1,Bvals[B_500:],IVIM[B_500:], p01,bounds = (0,[.1,1]))\n",
    "    f1 = popt[0]\n",
    "    D_fit = popt[1]\n",
    "    p02 = [.05,.009,D_fit] #f,Ds,D\n",
    "    popt,pcov = op.curve_fit(func,Bvals,IVIM, p02,bounds = ([0,0,D_fit],[1,1,D_fit+.001]))\n",
    "    fF = popt[0]\n",
    "    DsF = popt[1]\n",
    "    DF = popt[2]\n",
    "    return [fF,DsF,DF]\n",
    "def simplefit(IVIM,Bvals):\n",
    "    p0 = [.05,.009,.0009] #f, Ds,D best\n",
    "    popt,pcov = op.curve_fit(func,Bvals,IVIM, p0,bounds = (0,[1,1,1]),maxfev = 10000)\n",
    "    fF = popt[0]\n",
    "    DsF = popt[1]\n",
    "    DF = popt[2]\n",
    "    return [fF,DsF,DF]\n",
    "def twosteprun(f,Ds,D,S,B_500):\n",
    "    #SigN = ivim(B,f,Ds,D)\n",
    "    [fF,DsF,DF] = twostepfit(S,B,B_500)\n",
    "    return [fF,DsF,DF],[percenterr(f,fF),percenterr(Ds,DsF),percenterr(D,DF)]\n",
    "def splitrun(f,Ds,D,S,B_500):\n",
    "    #SigN = ivim(B,f,Ds,D)\n",
    "    [fF,DsF,DF] = splitfit(S,B,B_500)\n",
    "    return [fF,DsF,DF],[percenterr(f,fF),percenterr(Ds,DsF),percenterr(D,DF)]\n",
    "def simplerun(f,Ds,D,S):\n",
    "    #SigN = ivim(B,f,Ds,D)\n",
    "    [fF,DsF,DF] = simplefit(S,B)\n",
    "    return [fF,DsF,DF],[percenterr(f,fF),percenterr(Ds,DsF),percenterr(D,DF)]\n",
    "\n",
    "def twosteprunBs(f,Ds,D,S,B_500,B):\n",
    "    #SigN = ivim(B,f,Ds,D)\n",
    "    [fF,DsF,DF] = twostepfit(S,B,B_500)\n",
    "    return [fF,DsF,DF],[percenterr(f,fF),percenterr(Ds,DsF),percenterr(D,DF)]\n",
    "\n",
    "def simplerunBs(f,Ds,D,S,B):\n",
    "    #SigN = ivim(B,f,Ds,D)\n",
    "    [fF,DsF,DF] = simplefit(S,B)\n",
    "    return [fF,DsF,DF],[percenterr(f,fF),percenterr(Ds,DsF),percenterr(D,DF)]\n",
    "\n",
    "def splitrunBs(f,Ds,D,S,B_500,B):\n",
    "    #SigN = ivim(B,f,Ds,D)\n",
    "    [fF,DsF,DF] = splitfit(S,B,B_500)\n",
    "    return [fF,DsF,DF],[percenterr(f,fF),percenterr(Ds,DsF),percenterr(D,DF)]"
   ]
  },
  {
   "cell_type": "code",
   "execution_count": 3,
   "metadata": {},
   "outputs": [],
   "source": [
    "def NoiseR(I): # noise with rician distribution, ORIGINAL\n",
    "    N = []\n",
    "    N2 = []\n",
    "    N10 = []\n",
    "    G = []\n",
    "    for i in range(0,len(I)):\n",
    "        g1 = np.random.normal(0,.5,1) #mean, std, #of values\n",
    "        g2 = np.random.normal(0,.5,1)\n",
    "        R = np.sqrt(g1**2 + g2**2)[0]\n",
    "        N.append(I[i] +(I[i]/10)*R)\n",
    "    return N\n",
    "\n",
    "def NoiseRSNR1(I,SNR): # noise with rician distribution\n",
    "    N = [] \n",
    "    R1 = []\n",
    "    for i in range(0,len(I)):\n",
    "        g1 = np.random.normal(0,1,1) #mean, std, #of values\n",
    "        g2 = np.random.normal(0,1,1) #std has been .5... I LIED ABOUT SNR\n",
    "        R = np.sqrt(g1**2 + g2**2)[0]\n",
    "        #N.append(R)\n",
    "        #N2.append(R/2)\n",
    "        #N10.append(R/10)\n",
    "        #G.append(g1[0])\n",
    "        N.append(I[i] +(I[i]/SNR)*R) #SNR = 1,5,10,22\n",
    "        R1.append((I[i]/SNR)*R)\n",
    "    return N,R1\n",
    "\n",
    "def NoiseRSNR2(I,SNR): # noise with rician distribution AJA-FERNANDEZ\n",
    "    N = [] \n",
    "    R1 = []\n",
    "    for i in range(0,len(I)):\n",
    "        sigma = I[i]/SNR\n",
    "        g1 = np.random.normal(0,sigma,1) #mean, std, #of values\n",
    "        g2 = np.random.normal(0,sigma,1)\n",
    "        R = np.sqrt(g1**2 + g2**2)[0]\n",
    "        N.append(I[i] +R)\n",
    "        R1.append(R)\n",
    "    return N,R1\n",
    "def NoiseRSNR(I,SNR): # noise with rician distribution. original version. (before June 2019)\n",
    "    N = [] \n",
    "    for i in range(0,len(I)):\n",
    "        g1 = np.random.normal(0,1,1) #mean, std, #of values\n",
    "        g2 = np.random.normal(0,1,1) #std has been .5... I LIED ABOUT SNR oh no\n",
    "        R = np.sqrt(g1**2 + g2**2)[0]\n",
    "        N.append(I[i] +(I[i]/SNR)*R) #SNR = 1,10,22,100,150,inf\n",
    "    return N"
   ]
  },
  {
   "cell_type": "markdown",
   "metadata": {},
   "source": [
    "# Noise calculation\n",
    "### Measured signal, Actual signal, and Rician noise: M = A + sig(sqret(g1^2 + g2^2))\n",
    "\n",
    "### sig ~ 2, the standard deviation of Sum(5 slices) - Sum (5 slices)!\n",
    "\n",
    "Must account for normalization though. Normalized to b = 0 signal being 1.\n",
    "\n",
    "Ok so sigma = 2.5, SNR_b0 = 182/2.5 = 72.8 = 1/sigma2, so sigma2 = .01374 in normalized signal. \n",
    "\n",
    "\n",
    "## still test different effects of noise? Noise difference though, not SNR difference."
   ]
  },
  {
   "cell_type": "code",
   "execution_count": 4,
   "metadata": {},
   "outputs": [
    {
     "name": "stdout",
     "output_type": "stream",
     "text": [
      "0.790157522087932\n",
      "0.013033014856225118\n",
      "0.016335188254197275\n",
      "0.008596926736942977\n",
      "0.6879137977915843\n",
      "0.22278506663084066\n"
     ]
    },
    {
     "data": {
      "text/plain": [
       "<matplotlib.legend.Legend at 0x1a17968ac8>"
      ]
     },
     "execution_count": 4,
     "metadata": {},
     "output_type": "execute_result"
    },
    {
     "data": {
      "image/png": "[encoded data removed]",
      "text/plain": [
       "<Figure size 432x288 with 1 Axes>"
      ]
     },
     "metadata": {
      "needs_background": "light"
     },
     "output_type": "display_data"
    }
   ],
   "source": [
    "# scipy.rice\n",
    "v = .79\n",
    "sigma = .013\n",
    "b = v/sigma\n",
    "r = rice.rvs(b, scale = sigma, size=10000)\n",
    "pl.hist(r,histtype ='step',label = 'rice')\n",
    "print(np.mean(r))\n",
    "print(np.std(r))\n",
    "\n",
    "# aja-fernandes\n",
    "N = []\n",
    "for i in range(10000):\n",
    "    g1 = np.random.normal(0,1,1) #mean, std, #of values\n",
    "    g2 = np.random.normal(0,1,1) #std has been .5... I LIED ABOUT SNR oh no\n",
    "    R = np.sqrt(g1**2 + g2**2)[0]\n",
    "    N.append(R*.013)\n",
    "    \n",
    "pl.hist(N,histtype = 'step',label = 'aja-fern')\n",
    "\n",
    "    \n",
    "print(np.mean(N))\n",
    "print(np.std(N))\n",
    "\n",
    "\n",
    "def NoiseRSNRtest(I,SNR):\n",
    "    N = [] \n",
    "    for i in range(0,len(I)):\n",
    "        g1 = np.random.normal(0,1,1) #mean, std, #of values\n",
    "        g2 = np.random.normal(0,1,1) #std has been .5... I LIED ABOUT SNR oh no\n",
    "        R = np.sqrt(g1**2 + g2**2)[0]\n",
    "        N.append((I[i]/SNR)*R) #SNR = 1,10,22,100,150,inf\n",
    "    return N\n",
    "B = [0,111, 222, 333, 444, 556, 667, 778, 889, 1000]\n",
    "S1 = []\n",
    "for i in range(int(10000/10)):\n",
    "    f = .05 + .035*random()\n",
    "    Ds = .009 + .006*random()\n",
    "    D = .0009 + .0006*random()\n",
    "    #SNR1\n",
    "    Sig = ivim(B,f,Ds,D)\n",
    "    for i in range(10):\n",
    "        S1.append(NoiseRSNR(Sig,22)[i]) #SNR = 22 was established\n",
    "pl.hist(S1,histtype = 'step',label = 'constant snr')\n",
    "\n",
    "print(np.mean(S1))\n",
    "print(np.std(S1))\n",
    "pl.legend()\n",
    "\n",
    "# welp. I guess use rician function."
   ]
  },
  {
   "cell_type": "code",
   "execution_count": 5,
   "metadata": {},
   "outputs": [],
   "source": [
    "# NEW RICIAN FUNCTION. SNR NOT RELEVANT. constant noise.\n",
    "def NoiseRice(I,sigma): # noise with rician distribution\n",
    "    N = [] \n",
    "    #v = .79 # calculated from images on 6/11/19\n",
    "    #sigma = .013 #(std of noise measured!)\n",
    "    #v = 0.00434 #scaled = .79/182\n",
    "    v = .005816 #scaled 6/27/19\n",
    "    b = v/sigma\n",
    "    r = rice.rvs(b, scale = sigma, size=10)\n",
    "    for i in range(0,len(I)):\n",
    "        N.append(I[i] +r[i]) #SNR = 1,10,22,100,150,inf\n",
    "    return N"
   ]
  },
  {
   "cell_type": "code",
   "execution_count": 6,
   "metadata": {},
   "outputs": [
    {
     "data": {
      "image/png": "[encoded data removed]",
      "text/plain": [
       "<Figure size 432x288 with 1 Axes>"
      ]
     },
     "metadata": {
      "needs_background": "light"
     },
     "output_type": "display_data"
    }
   ],
   "source": [
    "N1 = []\n",
    "r1 = rice.rvs(0.005816/1, scale = 1, size=10000)\n",
    "pl.hist(r1,histtype = 'step',label = '1',bins = 40)\n",
    "r2 = rice.rvs(0.005816/.1, scale = .1, size=10000)\n",
    "pl.hist(r2,histtype = 'step',label = '.1',bins = 40)\n",
    "r3 = rice.rvs(0.005816/.045, scale = .045, size=10000)\n",
    "pl.hist(r3,histtype = 'step',label = '.045',bins = 40)\n",
    "r4 = rice.rvs(0.005816/.02, scale = .02, size=10000)\n",
    "pl.hist(r4,histtype = 'step',label = '.02',bins = 40)\n",
    "r5 = rice.rvs(0.005816/.01, scale = .01, size=10000)\n",
    "pl.hist(r5,histtype = 'step',label = '.01',bins = 40)\n",
    "pl.legend()\n",
    "pl.show()"
   ]
  },
  {
   "cell_type": "code",
   "execution_count": 14,
   "metadata": {},
   "outputs": [
    {
     "data": {
      "text/plain": [
       "<matplotlib.legend.Legend at 0x1a17dfa7f0>"
      ]
     },
     "execution_count": 14,
     "metadata": {},
     "output_type": "execute_result"
    },
    {
     "data": {
      "image/png": "[encoded data removed]",
      "text/plain": [
       "<Figure size 432x288 with 1 Axes>"
      ]
     },
     "metadata": {
      "needs_background": "light"
     },
     "output_type": "display_data"
    }
   ],
   "source": [
    "r1 = rice.rvs(0.0043/.0135, scale = 1, size=10000)\n",
    "r2 = rice.rvs(0.0058/.0135, scale = 1, size=10000)\n",
    "pl.hist(r1,histtype = 'step',label = '.004',bins = 40)\n",
    "pl.hist(r2,histtype = 'step',label = '.005',bins = 40)\n",
    "pl.legend()"
   ]
  },
  {
   "cell_type": "code",
   "execution_count": 15,
   "metadata": {},
   "outputs": [],
   "source": [
    "def CreateParams(Param,Init):\n",
    "    L = list(range(0,30000,3)) # USE TO SEPARATE F, D*, D\n",
    "    for i in range(10000):\n",
    "        Param[0].append(Init[L[i]]) #f\n",
    "        Param[1].append(Init[L[i]+1]) #Ds\n",
    "        Param[2].append(Init[L[i]+2]) #D\n",
    "    return Paramn\n",
    "    \n",
    "def sortParams(*args):\n",
    "    TSR = [[],[],[]] #SNR1\n",
    "    TSR10 = [[],[],[]] #SNR10\n",
    "    TSR22 = [[],[],[]] #SNR22\n",
    "    TSR50 = [[],[],[]] #SNR50\n",
    "    TSR75 = [[],[],[]] #SNR75\n",
    "    TSR100 = [[],[],[]] #SNR100\n",
    "    TSR125 = [[],[],[]] #SNR125\n",
    "    TSR150 = [[],[],[]] #SNR150\n",
    "    TSRinf = [[],[],[]] #no noise\n",
    "    TSR = CreateParams(TSR,args[0])\n",
    "    TSR10 = CreateParams(TSR10,args[1])\n",
    "    TSR22 = CreateParams(TSR22,args[2])\n",
    "    TSR50 = CreateParams(TSR50,args[3])\n",
    "    TSR75 = CreateParams(TSR75,args[4])\n",
    "    TSR100 = CreateParams(TSR100,args[5])\n",
    "    TSR125 = CreateParams(TSR125,args[6])\n",
    "    TSR150 = CreateParams(TSR150,args[7])\n",
    "    TSRinf = CreateParams(TSRinf,args[8])\n",
    "    return TSR,TSR10,TSR22,TSR50,TSR75,TSR100,TSR125,TSR150,TSRinf"
   ]
  },
  {
   "cell_type": "markdown",
   "metadata": {},
   "source": [
    "# SNR FOR SPLIT FIT"
   ]
  },
  {
   "cell_type": "code",
   "execution_count": 10,
   "metadata": {},
   "outputs": [],
   "source": [
    "# comparing SNR for SPLIT FIT, 222, 10 bvals\n",
    "B = [0,111, 222, 333, 444, 556, 667, 778, 889, 1000]\n",
    "TSR = [] #SNR1\n",
    "TSR10 = [] #SNR10\n",
    "TSR22 = [] #SNR22\n",
    "TSR50 = [] #SNR50\n",
    "TSR75 = [] #SNR75\n",
    "TSR100 = [] #SNR100\n",
    "TSR125 = [] #SNR125\n",
    "TSR150 = [] #SNR150\n",
    "TSRinf = [] #no noise\n",
    "for i in range(100):\n",
    "    f = .05 + .035*random()\n",
    "    Ds = .009 + .006*random()\n",
    "    D = .0009 + .0006*random()\n",
    "    #SNR1\n",
    "    Sig = ivim(B,f,Ds,D)\n",
    "    S1 = NoiseRice(Sig,1) #SNR1\n",
    "    [fB,DsB,DB],[ferr,Dserr,Derr] = splitrun(f,Ds,D,S1,2)\n",
    "    TSR.append(ferr),TSR.append(Dserr),TSR.append(Derr)\n",
    "    #SNR\n",
    "    Sig10 = ivim(B,f,Ds,D)\n",
    "    S10 = NoiseRice(Sig10,.1) #rician noise\n",
    "    [fB,DsB,DB],[ferr,Dserr,Derr] = splitrun(f,Ds,D,S10,2)\n",
    "    TSR10.append(ferr),TSR10.append(Dserr),TSR10.append(Derr)\n",
    "    #SNR22\n",
    "    Sig22 = ivim(B,f,Ds,D)\n",
    "    S22 = NoiseRice(Sig22,.045) #rician noise\n",
    "    [fB,DsB,DB],[ferr,Dserr,Derr] = splitrun(f,Ds,D,S22,2)\n",
    "    TSR22.append(ferr),TSR22.append(Dserr),TSR22.append(Derr)\n",
    "    #SNR50\n",
    "    Sig50 = ivim(B,f,Ds,D)\n",
    "    S50 = NoiseRice(Sig50,.02) #rician noise\n",
    "    [fB,DsB,DB],[ferr,Dserr,Derr] = splitrun(f,Ds,D,S50,2)\n",
    "    TSR50.append(ferr),TSR50.append(Dserr),TSR50.append(Derr)\n",
    "    #SNR75\n",
    "    Sig75 = ivim(B,f,Ds,D)\n",
    "    S75 = NoiseRice(Sig75,.013) #rician noise\n",
    "    [fB,DsB,DB],[ferr,Dserr,Derr] = splitrun(f,Ds,D,S75,2)\n",
    "    TSR75.append(ferr),TSR75.append(Dserr),TSR75.append(Derr)\n",
    "    #SNR100\n",
    "    Sig100 = ivim(B,f,Ds,D)\n",
    "    S100 = NoiseRice(Sig100,.01) #rician noise\n",
    "    [fB,DsB,DB],[ferr,Dserr,Derr] = splitrun(f,Ds,D,S100,2)\n",
    "    TSR100.append(ferr),TSR100.append(Dserr),TSR100.append(Derr)\n",
    "    #SNR125\n",
    "    Sig125 = ivim(B,f,Ds,D)\n",
    "    S125 = NoiseRice(Sig125,.008) #rician noise\n",
    "    [fB,DsB,DB],[ferr,Dserr,Derr] = splitrun(f,Ds,D,S125,2)\n",
    "    TSR125.append(ferr),TSR125.append(Dserr),TSR125.append(Derr)\n",
    "    #SNR150\n",
    "    Sig150 = ivim(B,f,Ds,D)\n",
    "    S150 = NoiseRice(Sig150,.0065) #rician noise\n",
    "    [fB,DsB,DB],[ferr,Dserr,Derr] = splitrun(f,Ds,D,S150,2)\n",
    "    TSR150.append(ferr),TSR150.append(Dserr),TSR150.append(Derr)\n",
    "    #SNRinf\n",
    "    Sig = ivim(B,f,Ds,D)\n",
    "    #S22 = NoiseRice(Sig22,22) #rician noise\n",
    "    [fB,DsB,DB],[ferr,Dserr,Derr] = splitrun(f,Ds,D,Sig,2)\n",
    "    TSRinf.append(ferr),TSRinf.append(Dserr),TSRinf.append(Derr)"
   ]
  },
  {
   "cell_type": "code",
   "execution_count": 11,
   "metadata": {},
   "outputs": [
    {
     "data": {
      "image/png": "[encoded data removed]",
      "text/plain": [
       "<Figure size 432x288 with 1 Axes>"
      ]
     },
     "metadata": {
      "needs_background": "light"
     },
     "output_type": "display_data"
    },
    {
     "name": "stdout",
     "output_type": "stream",
     "text": [
      "should get worse to better\n",
      "average error 1:  99.99851444210877\n",
      "average error 10:  -576.1124283051879\n",
      "average error 22:  -476.9259752377648\n",
      "average error 50:  -318.29400633105695\n",
      "average error 75:  -171.2876208897168\n",
      "average error 100:  -57.44368752710914\n",
      "average error 125:  -227.56075695809113\n",
      "average error 150:  -56.93471167766078\n",
      "average error inf:  -6.541789988090039\n",
      "absolute error 1:  99.99851444210877\n",
      "absolute error 10:  665.2193396360054\n",
      "absolute error 22:  549.7173983677801\n",
      "absolute error 50:  373.942546948323\n",
      "absolute error 75:  217.30256810170292\n",
      "absolute error 100:  99.13813965645576\n",
      "absolute error 125:  264.8980024185386\n",
      "absolute error 150:  91.66217198236464\n",
      "absolute error: inf 20.33925527525997\n"
     ]
    }
   ],
   "source": [
    "L = list(range(0,30000,3)) # USE TO SEPARATE F, D*, D\n",
    "TSR22f = []\n",
    "TSR22D = []\n",
    "TSR22Ds = []\n",
    "for i in range(100):\n",
    "    TSR22f.append(TSR22[L[i]])\n",
    "    TSR22Ds.append(TSR22[L[i]+1])\n",
    "    TSR22D.append(TSR22[L[i]+2])\n",
    "#pl.title('Percent Error Distribution Rician Noise')\n",
    "pl.hist(TSR22f,bins = 100,range=(-1000,200),histtype = 'step',label = 'f')\n",
    "pl.hist(TSR22Ds,bins = 100,range =(-1000,200),histtype = 'step',label = 'Ds')\n",
    "pl.hist(TSR22D,bins = 100,range=(-1000,200),histtype = 'step',label = 'D')\n",
    "\n",
    "pl.legend(loc=2)\n",
    "#pl.text(-990,3000,'10000 runs\\n5 MPE = -34.5%\\n10 MPE = -27.2%\\n19 MPE = -26.6%')\n",
    "#pl.text(-990,1000,'5 MAPD = 52.6%\\n10 MAPD = 46.1%\\n19 MAPD = 54.4%')\n",
    "pl.xlabel('Percent Error')\n",
    "pl.ylabel('Counts')\n",
    "#pl.savefig('/Users/neuroimaging/Desktop/bvalnum.tif',dpi=1000)\n",
    "pl.show()\n",
    "\n",
    "print('should get worse to better')\n",
    "print('average error 1: ',np.mean(TSR))\n",
    "print('average error 10: ',np.mean(TSR10))\n",
    "print('average error 22: ',np.mean(TSR22))\n",
    "print('average error 50: ',np.mean(TSR50))\n",
    "print('average error 75: ',np.mean(TSR75))\n",
    "print('average error 100: ',np.mean(TSR100))\n",
    "print('average error 125: ',np.mean(TSR125))\n",
    "print('average error 150: ',np.mean(TSR150))\n",
    "print('average error inf: ',np.mean(TSRinf))\n",
    "print('absolute error 1: ', np.sum([abs(i) for i in TSR])/len(TSR))\n",
    "print('absolute error 10: ', np.sum([abs(i) for i in TSR10])/len(TSR10))\n",
    "print('absolute error 22: ', np.sum([abs(i) for i in TSR22])/len(TSR22))\n",
    "print('absolute error 50: ', np.sum([abs(i) for i in TSR50])/len(TSR50))\n",
    "print('absolute error 75: ', np.sum([abs(i) for i in TSR75])/len(TSR75))\n",
    "print('absolute error 100: ', np.sum([abs(i) for i in TSR100])/len(TSR100))\n",
    "print('absolute error 125: ', np.sum([abs(i) for i in TSR125])/len(TSR125))\n",
    "print('absolute error 150: ', np.sum([abs(i) for i in TSR150])/len(TSR150))\n",
    "print('absolute error: inf', np.sum([abs(i) for i in TSRinf])/len(TSRinf))"
   ]
  },
  {
   "cell_type": "markdown",
   "metadata": {},
   "source": [
    "# SNR FOR SIMPLE FIT"
   ]
  },
  {
   "cell_type": "code",
   "execution_count": 13,
   "metadata": {},
   "outputs": [],
   "source": [
    "# comparing SNR for SIMPLE FIT, 222, 10 bvals\n",
    "B = [0,111, 222, 333, 444, 556, 667, 778, 889, 1000]\n",
    "TSRs = [] #SNR1\n",
    "TSR10s = [] #SNR10\n",
    "TSR22s = [] #SNR22\n",
    "TSR50s = [] #SNR50\n",
    "TSR75s = [] #SNR75\n",
    "TSR100s = [] #SNR100\n",
    "TSR125s = [] #SNR125\n",
    "TSR150s = [] #SNR150\n",
    "TSRinfs = [] #no noise\n",
    "for i in range(10000):\n",
    "    f = .05 + .035*random()\n",
    "    Ds = .009 + .006*random()\n",
    "    D = .0009 + .0006*random()'\n",
    "    #SNR1\n",
    "    Sig = ivim(B,f,Ds,D)\n",
    "    S1 = NoiseRice(Sig,1) #SNR1\n",
    "    [fB,DsB,DB],[ferr,Dserr,Derr] = simplerun(f,Ds,D,S1)\n",
    "    TSRs.append(ferr),TSRs.append(Dserr),TSRs.append(Derr)\n",
    "    #SNR10\n",
    "    Sig10 = ivim(B,f,Ds,D)\n",
    "    S10 = NoiseRice(Sig10,.1) #rician noise\n",
    "    [fB,DsB,DB],[ferr,Dserr,Derr] = simplerun(f,Ds,D,S10)\n",
    "    TSR10s.append(ferr),TSR10s.append(Dserr),TSR10s.append(Derr)\n",
    "    #SNR22\n",
    "    Sig22 = ivim(B,f,Ds,D)\n",
    "    S22 = NoiseRice(Sig22,.045) #rician noise\n",
    "    [fB,DsB,DB],[ferr,Dserr,Derr] = simplerun(f,Ds,D,S22)\n",
    "    TSR22s.append(ferr),TSR22s.append(Dserr),TSR22s.append(Derr)\n",
    "    #SNR50\n",
    "    Sig50 = ivim(B,f,Ds,D)\n",
    "    S50 = NoiseRice(Sig50,.02) #rician noise\n",
    "    [fB,DsB,DB],[ferr,Dserr,Derr] = simplerun(f,Ds,D,S50)\n",
    "    TSR50s.append(ferr),TSR50s.append(Dserr),TSR50s.append(Derr)\n",
    "    #SNR75\n",
    "    Sig75 = ivim(B,f,Ds,D)\n",
    "    S75 = NoiseRice(Sig75,.013) #rician noise\n",
    "    [fB,DsB,DB],[ferr,Dserr,Derr] = simplerun(f,Ds,D,S75)\n",
    "    TSR75s.append(ferr),TSR75s.append(Dserr),TSR75s.append(Derr)\n",
    "    #SNR100\n",
    "    Sig100 = ivim(B,f,Ds,D)\n",
    "    S100 = NoiseRice(Sig100,.01) #rician noise\n",
    "    [fB,DsB,DB],[ferr,Dserr,Derr] = simplerun(f,Ds,D,S100)\n",
    "    TSR100s.append(ferr),TSR100s.append(Dserr),TSR100s.append(Derr)\n",
    "    #SNR125\n",
    "    Sig125 = ivim(B,f,Ds,D)\n",
    "    S125 = NoiseRice(Sig125,.008) #rician noise\n",
    "    [fB,DsB,DB],[ferr,Dserr,Derr] = simplerun(f,Ds,D,S125)\n",
    "    TSR125s.append(ferr),TSR125s.append(Dserr),TSR125s.append(Derr)\n",
    "    #SNR150\n",
    "    Sig150 = ivim(B,f,Ds,D)\n",
    "    S150 = NoiseRice(Sig150,.0065) #rician noise\n",
    "    [fB,DsB,DB],[ferr,Dserr,Derr] = simplerun(f,Ds,D,S150)\n",
    "    TSR150s.append(ferr),TSR150s.append(Dserr),TSR150s.append(Derr)\n",
    "    #SNRinf\n",
    "    Sig = ivim(B,f,Ds,D)\n",
    "    #S22 = NoiseRice(Sig22,22) #rician noise\n",
    "    [fB,DsB,DB],[ferr,Dserr,Derr] = simplerun(f,Ds,D,Sig)\n",
    "    TSRinfs.append(ferr),TSRinfs.append(Dserr),TSRinfs.append(Derr)"
   ]
  },
  {
   "cell_type": "code",
   "execution_count": 14,
   "metadata": {},
   "outputs": [
    {
     "data": {
      "image/png": "[encoded data removed]",
      "text/plain": [
       "<Figure size 432x288 with 1 Axes>"
      ]
     },
     "metadata": {
      "needs_background": "light"
     },
     "output_type": "display_data"
    },
    {
     "name": "stdout",
     "output_type": "stream",
     "text": [
      "should get worse to better\n",
      "average error 1:  99.97246978671765\n",
      "average error 10:  -5.220008757649858\n",
      "average error 22:  -109.74938492142893\n",
      "average error 50:  -207.9039386958038\n",
      "average error 75:  -216.97516649907283\n",
      "average error 100:  -202.5206549275998\n",
      "average error 125:  -189.03014597856318\n",
      "average error 150:  -175.0517821068876\n",
      "average error inf:  -4.457504291841148e-06\n",
      "absolute error 1:  100.0139761104055\n",
      "absolute error 10:  137.43558582192466\n",
      "absolute error 22:  219.5276948551157\n",
      "absolute error 50:  292.09223571351725\n",
      "absolute error 75:  286.3555093391412\n",
      "absolute error 100:  262.96828578891274\n",
      "absolute error 125:  242.8347290492846\n",
      "absolute error 150:  223.61517666909992\n",
      "absolute error: inf 3.478039688874429e-05\n"
     ]
    }
   ],
   "source": [
    "L = list(range(0,30000,3)) # USE TO SEPARATE F, D*, D\n",
    "TSR22fs = []\n",
    "TSR22Ds = []\n",
    "TSR22Dss = []\n",
    "for i in range(100):\n",
    "    TSR22fs.append(TSR22s[L[i]])\n",
    "    TSR22Dss.append(TSR22s[L[i]+1])\n",
    "    TSR22Ds.append(TSR22s[L[i]+2])\n",
    "#pl.title('Percent Error Distribution Rician Noise')\n",
    "pl.hist(TSR22fs,bins = 100,range=(-1000,200),histtype = 'step',label = 'f')\n",
    "pl.hist(TSR22Dss,bins = 100,range =(-1000,200),histtype = 'step',label = 'Ds')\n",
    "pl.hist(TSR22Ds,bins = 100,range=(-1000,200),histtype = 'step',label = 'D')\n",
    "\n",
    "pl.legend(loc=2)\n",
    "#pl.text(-990,3000,'10000 runs\\n5 MPE = -34.5%\\n10 MPE = -27.2%\\n19 MPE = -26.6%')\n",
    "#pl.text(-990,1000,'5 MAPD = 52.6%\\n10 MAPD = 46.1%\\n19 MAPD = 54.4%')\n",
    "pl.xlabel('Percent Error')\n",
    "pl.ylabel('Counts')\n",
    "#pl.savefig('/Users/neuroimaging/Desktop/bvalnum.tif',dpi=1000)\n",
    "pl.show()\n",
    "\n",
    "print('should get worse to better')\n",
    "print('average error 1: ',np.mean(TSRs))\n",
    "print('average error 10: ',np.mean(TSR10s))\n",
    "print('average error 22: ',np.mean(TSR22s))\n",
    "print('average error 50: ',np.mean(TSR50s))\n",
    "print('average error 75: ',np.mean(TSR75s))\n",
    "print('average error 100: ',np.mean(TSR100s))\n",
    "print('average error 125: ',np.mean(TSR125s))\n",
    "print('average error 150: ',np.mean(TSR150s))\n",
    "print('average error inf: ',np.mean(TSRinfs))\n",
    "print('absolute error 1: ', np.sum([abs(i) for i in TSRs])/len(TSRs))\n",
    "print('absolute error 10: ', np.sum([abs(i) for i in TSR10s])/len(TSR10s))\n",
    "print('absolute error 22: ', np.sum([abs(i) for i in TSR22s])/len(TSR22s))\n",
    "print('absolute error 50: ', np.sum([abs(i) for i in TSR50s])/len(TSR50s))\n",
    "print('absolute error 75: ', np.sum([abs(i) for i in TSR75s])/len(TSR75s))\n",
    "print('absolute error 100: ', np.sum([abs(i) for i in TSR100s])/len(TSR100s))\n",
    "print('absolute error 125: ', np.sum([abs(i) for i in TSR125s])/len(TSR125s))\n",
    "print('absolute error 150: ', np.sum([abs(i) for i in TSR150s])/len(TSR150s))\n",
    "print('absolute error: inf', np.sum([abs(i) for i in TSRinfs])/len(TSRinfs))"
   ]
  },
  {
   "cell_type": "markdown",
   "metadata": {},
   "source": [
    "# SNR for 2step fit"
   ]
  },
  {
   "cell_type": "code",
   "execution_count": 12,
   "metadata": {},
   "outputs": [
    {
     "name": "stderr",
     "output_type": "stream",
     "text": [
      "/Users/neuroimaging/anaconda3/lib/python3.7/site-packages/scipy/optimize/minpack.py:787: OptimizeWarning: Covariance of the parameters could not be estimated\n",
      "  category=OptimizeWarning)\n"
     ]
    }
   ],
   "source": [
    "# comparing SNR for 2step, 222, 10 bvals\n",
    "B = [0,111, 222, 333, 444, 556, 667, 778, 889, 1000]\n",
    "TSR2 = [] #SNR1\n",
    "TSR210 = [] #SNR10\n",
    "TSR222 = [] #SNR22\n",
    "TSR250 = [] #SNR50\n",
    "TSR275 = [] #SNR75\n",
    "TSR2100 = [] #SNR100\n",
    "TSR2125 = [] #SNR125\n",
    "TSR2150 = [] #SNR150\n",
    "TSR2inf = [] #no noise\n",
    "for i in range(1000):\n",
    "    f = .05 + .035*random()\n",
    "    Ds = .009 + .006*random()\n",
    "    D = .0009 + .0006*random()\n",
    "    #SNR1\n",
    "    Sig = ivim(B,f,Ds,D)\n",
    "    S1 = NoiseRice(Sig,1) #SNR1\n",
    "    [fB,DsB,DB],[ferr,Dserr,Derr] = twosteprun(f,Ds,D,S1,2)\n",
    "    TSR2.append(ferr),TSR2.append(Dserr),TSR2.append(Derr)\n",
    "    #SNR10\n",
    "    Sig10 = ivim(B,f,Ds,D)\n",
    "    S10 = NoiseRice(Sig10,.1) #rician noise\n",
    "    [fB,DsB,DB],[ferr,Dserr,Derr] = twosteprun(f,Ds,D,S10,2)\n",
    "    TSR210.append(ferr),TSR210.append(Dserr),TSR210.append(Derr)\n",
    "    #SNR22\n",
    "    Sig22 = ivim(B,f,Ds,D)\n",
    "    S22 = NoiseRice(Sig22,.045) #rician noise\n",
    "    [fB,DsB,DB],[ferr,Dserr,Derr] = twosteprun(f,Ds,D,S22,2)\n",
    "    TSR222.append(ferr),TSR222.append(Dserr),TSR222.append(Derr)\n",
    "    #SNR50\n",
    "    Sig50 = ivim(B,f,Ds,D)\n",
    "    S50 = NoiseRice(Sig50,.02) #rician noise\n",
    "    [fB,DsB,DB],[ferr,Dserr,Derr] = twosteprun(f,Ds,D,S50,2)\n",
    "    TSR250.append(ferr),TSR250.append(Dserr),TSR250.append(Derr)\n",
    "    #SNR75\n",
    "    Sig75 = ivim(B,f,Ds,D)\n",
    "    S75 = NoiseRice(Sig75,.013) #rician noise\n",
    "    [fB,DsB,DB],[ferr,Dserr,Derr] = twosteprun(f,Ds,D,S75,2)\n",
    "    TSR275.append(ferr),TSR275.append(Dserr),TSR275.append(Derr)\n",
    "    #SNR100\n",
    "    Sig100 = ivim(B,f,Ds,D)\n",
    "    S100 = NoiseRice(Sig100,.001) #rician noise\n",
    "    [fB,DsB,DB],[ferr,Dserr,Derr] = twosteprun(f,Ds,D,S100,2)\n",
    "    TSR2100.append(ferr),TSR2100.append(Dserr),TSR2100.append(Derr)\n",
    "    #SNR125\n",
    "    Sig125 = ivim(B,f,Ds,D)\n",
    "    S125 = NoiseRice(Sig125,.008) #rician noise\n",
    "    [fB,DsB,DB],[ferr,Dserr,Derr] = twosteprun(f,Ds,D,S125,2)\n",
    "    TSR2125.append(ferr),TSR2125.append(Dserr),TSR2125.append(Derr)\n",
    "    #SNR150\n",
    "    Sig150 = ivim(B,f,Ds,D)\n",
    "    S150 = NoiseRice(Sig150,.0065) #rician noise\n",
    "    [fB,DsB,DB],[ferr,Dserr,Derr] = twosteprun(f,Ds,D,S150,2)\n",
    "    TSR2150.append(ferr),TSR2150.append(Dserr),TSR2150.append(Derr)\n",
    "    #SNRinf\n",
    "    Sig = ivim(B,f,Ds,D)\n",
    "    #S22 = NoiseRice(Sig22,22) #rician noise\n",
    "    [fB,DsB,DB],[ferr,Dserr,Derr] = twosteprun(f,Ds,D,Sig,2)\n",
    "    TSR2inf.append(ferr),TSR2inf.append(Dserr),TSR2inf.append(Derr)"
   ]
  },
  {
   "cell_type": "code",
   "execution_count": 13,
   "metadata": {},
   "outputs": [
    {
     "data": {
      "image/png": "[encoded data removed]",
      "text/plain": [
       "<Figure size 432x288 with 1 Axes>"
      ]
     },
     "metadata": {
      "needs_background": "light"
     },
     "output_type": "display_data"
    },
    {
     "name": "stdout",
     "output_type": "stream",
     "text": [
      "should get worse to better\n",
      "average error 1:  -637.9095252522189\n",
      "average error 10:  -73.73713745091632\n",
      "average error 22:  -24.8287301941806\n",
      "average error 50:  -6.136630171192414\n",
      "average error 75:  -2.3191564390564556\n",
      "average error 100:  0.09595773655030196\n",
      "average error 125:  -0.8710662063528033\n",
      "average error 150:  -0.6146300157409017\n",
      "average error inf:  0.562802321660775\n",
      "absolute error 1:  712.8133783700013\n",
      "absolute error 10:  105.94328265587718\n",
      "absolute error 22:  49.58714759924154\n",
      "absolute error 50:  29.808630898252012\n",
      "absolute error 75:  26.43959333542487\n",
      "absolute error 100:  22.553066565111383\n",
      "absolute error 125:  24.936473591757967\n",
      "absolute error 150:  24.51288389941007\n",
      "absolute error: inf 23.394863917864953\n"
     ]
    }
   ],
   "source": [
    "L = list(range(0,30000,3)) # USE TO SEPARATE F, D*, D\n",
    "TSR222f = []\n",
    "TSR222D = []\n",
    "TSR222Ds = []\n",
    "for i in range(100):\n",
    "    TSR222f.append(TSR222[L[i]])\n",
    "    TSR222Ds.append(TSR222[L[i]+1])\n",
    "    TSR222D.append(TSR222[L[i]+2])\n",
    "#pl.title('Percent Error Distribution Rician Noise')\n",
    "pl.hist(TSR222f,bins = 100,range=(-1000,200),histtype = 'step',label = 'f')\n",
    "pl.hist(TSR222Ds,bins = 100,range =(-1000,200),histtype = 'step',label = 'Ds')\n",
    "pl.hist(TSR222D,bins = 100,range=(-1000,200),histtype = 'step',label = 'D')\n",
    "\n",
    "pl.legend(loc=2)\n",
    "#pl.text(-990,3000,'10000 runs\\n5 MPE = -34.5%\\n10 MPE = -27.2%\\n19 MPE = -26.6%')\n",
    "#pl.text(-990,1000,'5 MAPD = 52.6%\\n10 MAPD = 46.1%\\n19 MAPD = 54.4%')\n",
    "pl.xlabel('Percent Error')\n",
    "pl.ylabel('Counts')\n",
    "#pl.savefig('/Users/neuroimaging/Desktop/bvalnum.tif',dpi=1000)\n",
    "pl.show()\n",
    "\n",
    "print('should get worse to better')\n",
    "print('average error 1: ',np.mean(TSR2))\n",
    "print('average error 10: ',np.mean(TSR210))\n",
    "print('average error 22: ',np.mean(TSR222))\n",
    "print('average error 50: ',np.mean(TSR250))\n",
    "print('average error 75: ',np.mean(TSR275))\n",
    "print('average error 100: ',np.mean(TSR2100))\n",
    "print('average error 125: ',np.mean(TSR2125))\n",
    "print('average error 150: ',np.mean(TSR2150))\n",
    "print('average error inf: ',np.mean(TSR2inf))\n",
    "print('absolute error 1: ', np.sum([abs(i) for i in TSR2])/len(TSR2))\n",
    "print('absolute error 10: ', np.sum([abs(i) for i in TSR210])/len(TSR210))\n",
    "print('absolute error 22: ', np.sum([abs(i) for i in TSR222])/len(TSR222))\n",
    "print('absolute error 50: ', np.sum([abs(i) for i in TSR250])/len(TSR250))\n",
    "print('absolute error 75: ', np.sum([abs(i) for i in TSR275])/len(TSR275))\n",
    "print('absolute error 100: ', np.sum([abs(i) for i in TSR2100])/len(TSR2100))\n",
    "print('absolute error 125: ', np.sum([abs(i) for i in TSR2125])/len(TSR2125))\n",
    "print('absolute error 150: ', np.sum([abs(i) for i in TSR2150])/len(TSR2150))\n",
    "print('absolute error: inf', np.sum([abs(i) for i in TSR2inf])/len(TSR2inf))"
   ]
  },
  {
   "cell_type": "markdown",
   "metadata": {},
   "source": [
    "# SNR PLOTS"
   ]
  },
  {
   "cell_type": "code",
   "execution_count": 7,
   "metadata": {},
   "outputs": [
    {
     "data": {
      "image/png": "[encoded data removed]",
      "text/plain": [
       "<Figure size 432x288 with 1 Axes>"
      ]
     },
     "metadata": {
      "needs_background": "light"
     },
     "output_type": "display_data"
    },
    {
     "data": {
      "image/png": "[encoded data removed]",
      "text/plain": [
       "<Figure size 432x288 with 1 Axes>"
      ]
     },
     "metadata": {
      "needs_background": "light"
     },
     "output_type": "display_data"
    }
   ],
   "source": [
    "SPLITmpe = [99.74518910786865,\n",
    " -483.1948572995116,\n",
    " -385.6142728227402,\n",
    "-249.4585800278958,\n",
    " -173.61837163218425,\n",
    " -122.13258423433412,\n",
    "-93.33728879621904,\n",
    " -61.35961020235099,\n",
    "-6.566759710995065] \n",
    "SPLITmapd = [100.20767757674916,\n",
    " 573.9930293892044,\n",
    " 460.2872732065038,\n",
    " 306.61473619798204,\n",
    "220.5977350283703,\n",
    "162.7590674419487,\n",
    "129.60492969662587,\n",
    "94.07583861869416,\n",
    "21.20187921285493]\n",
    "\n",
    "SIMPLEmpe = [99.98730959828023,\n",
    "-7.619582813061343,\n",
    " -101.24000268195627,\n",
    " -207.67961065988422,\n",
    " -221.52676131321365,\n",
    "-205.46917429659257,\n",
    " -186.671508859224,\n",
    " -165.39841225170736,\n",
    " -4.310941743735804e-06]\n",
    "SIMPLEmapd = [100.00390266625026,\n",
    " 139.9065984139617,\n",
    " 210.65708920693166,\n",
    " 291.49198880142137,\n",
    " 290.17941645786743,\n",
    " 265.0515095152583,\n",
    "  239.51012178801926,\n",
    "211.92468165412976,\n",
    "2.7953372695440822e-05]\n",
    "\n",
    "TWOSTEPmpe = [-647.0853939500995,\n",
    " -72.1319058383865,\n",
    " -24.802490104257032,\n",
    " -6.374285952507587,\n",
    " -2.7771661630228706,\n",
    " -0.04588650294336509,\n",
    " -0.9349815858943629,\n",
    " -0.7160497563328354,\n",
    " 0.38706573759258195] \n",
    "TWOSTEPmapd = [ 721.6666066156264,\n",
    "104.47243417937948,\n",
    "48.3960668849185,\n",
    "29.942378647044404,\n",
    " 26.762074733808085,\n",
    "22.696915361982374,\n",
    " 24.763492455057357,\n",
    " 24.235571147163743,\n",
    "23.41203208733118]\n",
    "\n",
    "\n",
    "SNR = [1,10,22,50,75,100,125,150,500] # = 1/Noise\n",
    "#Noise = [1,.1,.045,.02,.013,.01,.008,.0065,.0001] # = std of noise used\n",
    "#pl.xlim(0,1)\n",
    "pl.plot(SNR,SPLITmpe,label = 'Split')\n",
    "pl.plot(SNR,TWOSTEPmpe,label = 'Two-step')\n",
    "pl.plot(SNR,SIMPLEmpe,label = 'Simple')\n",
    "pl.hlines(0,1,500,linestyle = '--',label = 'MPE = 0')\n",
    "#pl.vlines(31,0,-600,linestyle='--',label = 'measured noise range',color='grey')\n",
    "#pl.vlines(91,0,-600,linestyle='--',label = 'measured noise range',color='grey')\n",
    "pl.vlines(61,0,-600,linestyle='--',label = 'average noise',color='grey')\n",
    "pl.ylabel('MPE')\n",
    "pl.xlabel('1/Noise')\n",
    "pl.legend()\n",
    "#pl.savefig('/Users/neuroimaging/Desktop/Noise.tif',dpi=1000)\n",
    "\n",
    "pl.show()\n",
    "\n",
    "\n",
    "pl.plot(SNR,SPLITmapd,label = 'Split')\n",
    "pl.plot(SNR,TWOSTEPmapd,label = 'Two-step')\n",
    "pl.plot(SNR,SIMPLEmapd,label = 'Simple')\n",
    "pl.hlines(0,1,500,linestyle = '--',label = 'MAPD = 0')\n",
    "#pl.vlines(31,0,700,linestyle='--',label = 'measured noise range',color='grey')\n",
    "#pl.vlines(91,0,700,linestyle='--',label = 'measured noise range',color='grey')\n",
    "pl.vlines(96.2,0,700,linestyle='--',label = 'average noise',color='grey')\n",
    "pl.ylabel('MAPD')\n",
    "pl.xlabel('1/Noise')\n",
    "pl.legend()\n",
    "pl.savefig('/Users/neuroimaging/Desktop/Noise.tif',dpi=1000)\n",
    "\n",
    "pl.show()\n"
   ]
  },
  {
   "cell_type": "code",
   "execution_count": 44,
   "metadata": {},
   "outputs": [
    {
     "name": "stdout",
     "output_type": "stream",
     "text": [
      "Sorting By Parameter\n"
     ]
    },
    {
     "data": {
      "image/png": "[encoded data removed]",
      "text/plain": [
       "<Figure size 432x288 with 1 Axes>"
      ]
     },
     "metadata": {
      "needs_background": "light"
     },
     "output_type": "display_data"
    },
    {
     "data": {
      "image/png": "[encoded data removed]",
      "text/plain": [
       "<Figure size 432x288 with 1 Axes>"
      ]
     },
     "metadata": {
      "needs_background": "light"
     },
     "output_type": "display_data"
    },
    {
     "data": {
      "image/png": "[encoded data removed]",
      "text/plain": [
       "<Figure size 432x288 with 1 Axes>"
      ]
     },
     "metadata": {
      "needs_background": "light"
     },
     "output_type": "display_data"
    }
   ],
   "source": [
    "print('Sorting By Parameter')\n",
    "#split fit\n",
    "T1,T10,T22,T50,T75,T100,T125,T150,Tinf = sortParams(TSR,TSR10,TSR22,TSR50,TSR75,TSR100,TSR125,TSR150,TSRinf)\n",
    "fMPE = []\n",
    "DMPE = []\n",
    "DsMPE = []\n",
    "List = [T1,T10,T22,T50,T75,T100,T125,T150,Tinf]\n",
    "for i in range(9):\n",
    "    fMPE.append(np.mean(List[i][0]))\n",
    "    DsMPE.append(np.mean(List[i][1]))\n",
    "    DMPE.append(np.mean(List[1][2]))\n",
    "    \n",
    "SNR = [1,10,22,50,75,100,125,150,500]\n",
    "pl.plot(SNR,fMPE,label = 'f split',linestyle = '--',color = 'r')\n",
    "pl.plot(SNR,DMPE,label = 'D split',linestyle = '--',color = 'g')\n",
    "pl.plot(SNR,DsMPE,label = 'Ds split',linestyle = '--',color = 'b')\n",
    "pl.hlines(0,1,500,linestyle = '--',label = 'MPE = 0')\n",
    "pl.legend()\n",
    "pl.show()\n",
    "\n",
    "#simple fit \n",
    "T1,T10,T22,T50,T75,T100,T125,T150,Tinf = sortParams(TSRs,TSR10s,TSR22s,TSR50s,TSR75s,TSR100s,TSR125s,TSR150s,TSRinfs)\n",
    "fMPE = []\n",
    "DMPE = []\n",
    "DsMPE = []\n",
    "List = [T1,T10,T22,T50,T75,T100,T125,T150,Tinf]\n",
    "for i in range(9):\n",
    "    fMPE.append(np.mean(List[i][0]))\n",
    "    DsMPE.append(np.mean(List[i][1]))\n",
    "    DMPE.append(np.mean(List[1][2]))\n",
    "    \n",
    "SNR = [1,10,22,50,75,100,125,150,500]\n",
    "pl.plot(SNR,fMPE,label = 'f simple',marker = 'o',color = 'r')\n",
    "pl.plot(SNR,DMPE,label = 'D simple',marker = 'o',color = 'g')\n",
    "pl.plot(SNR,DsMPE,label = 'Ds simple',marker = 'o',color = 'b')\n",
    "pl.legend()\n",
    "pl.show()\n",
    "\n",
    "#two step\n",
    "T1,T10,T22,T50,T75,T100,T125,T150,Tinf = sortParams(TSR2,TSR210,TSR222,TSR250,TSR275,TSR2100,TSR2125,TSR2150,TSR2inf)\n",
    "fMPE = []\n",
    "DMPE = []\n",
    "DsMPE = []\n",
    "List = [T1,T10,T22,T50,T75,T100,T125,T150,Tinf]\n",
    "for i in range(9):\n",
    "    fMPE.append(np.mean(List[i][0]))\n",
    "    DsMPE.append(np.mean(List[i][1]))\n",
    "    DMPE.append(np.mean(List[1][2]))\n",
    "    \n",
    "SNR = [1,10,22,50,75,100,125,150,500]\n",
    "pl.plot(SNR,fMPE,label = 'f 2step',marker = 'v',color = 'r')\n",
    "pl.plot(SNR,DMPE,label = 'D 2step',marker = 'v',color = 'g')\n",
    "pl.plot(SNR,DsMPE,label = 'Ds 2step',marker = 'v',color = 'b')\n",
    "pl.hlines(0,1,500,linestyle = '--',label = 'MPE = 0')\n",
    "pl.legend()\n",
    "pl.show()\n",
    "\n",
    "\n",
    "    "
   ]
  },
  {
   "cell_type": "code",
   "execution_count": null,
   "metadata": {
    "collapsed": true
   },
   "outputs": [],
   "source": []
  }
 ],
 "metadata": {
  "kernelspec": {
   "display_name": "Python 3",
   "language": "python",
   "name": "python3"
  },
  "language_info": {
   "codemirror_mode": {
    "name": "ipython",
    "version": 3
   },
   "file_extension": ".py",
   "mimetype": "text/x-python",
   "name": "python",
   "nbconvert_exporter": "python",
   "pygments_lexer": "ipython3",
   "version": "3.7.4"
  }
 },
 "nbformat": 4,
 "nbformat_minor": 2
}
