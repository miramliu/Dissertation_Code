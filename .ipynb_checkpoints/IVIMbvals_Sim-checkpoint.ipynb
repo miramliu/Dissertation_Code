{
 "cells": [
  {
   "cell_type": "code",
   "execution_count": 2,
   "metadata": {},
   "outputs": [],
   "source": [
    "import numpy as np\n",
    "import matplotlib\n",
    "import matplotlib.pyplot as pl\n",
    "%matplotlib inline\n",
    "import csv\n",
    "\n",
    "import scipy.optimize as op\n",
    "import scipy.stats\n",
    "from scipy.optimize import curve_fit\n",
    "import scipy.io\n",
    "from scipy.stats import rice\n",
    "\n",
    "import random\n",
    "import pickle"
   ]
  },
  {
   "cell_type": "markdown",
   "metadata": {},
   "source": [
    "# Simulation "
   ]
  },
  {
   "cell_type": "code",
   "execution_count": 2,
   "metadata": {},
   "outputs": [],
   "source": [
    "def random():\n",
    "    A = np.random.random()\n",
    "    B = np.random.random()\n",
    "    if B>=.5:\n",
    "        C = 1\n",
    "    else:\n",
    "        C = -1\n",
    "    return A*C    \n",
    "\n",
    "def Noise(I): #original noise function\n",
    "    N = []\n",
    "    for i in range(0,len(I)):\n",
    "        N.append(I[i]+(I[i]/10)*random())\n",
    "    return N\n",
    "\n",
    "def NoiseG(I):  #noise with gaussian distribution\n",
    "    N = []\n",
    "    for i in range(0,len(I)):\n",
    "        N.append(I[i] + (I[i]/10)*np.random.normal(0,1,1)[0])\n",
    "    return N\n",
    "\n",
    "def NoiseR(I): # noise with rician distribution\n",
    "    N = []\n",
    "    for i in range(0,len(I)):\n",
    "        g1 = np.random.normal(0,.5,1)\n",
    "        g2 = np.random.normal(0,.5,1)\n",
    "        R = np.sqrt(g1**2 + g2**2)[0]\n",
    "        N.append(I[i] +(I[i]/10)*R)\n",
    "    return N\n",
    "\n",
    "def func(b,f,Ds,D):\n",
    "    Sig = f*np.exp(-Ds*b)+(1-f)*np.exp(-D*b) #IVIM model signal\n",
    "    return Sig\n",
    "\n",
    "def func1(b,f,D):\n",
    "    return (1-f)*np.exp(-D*b)\n",
    "\n",
    "def func2(b,f,Ds):\n",
    "    return f*np.exp(-Ds*b)\n",
    "\n",
    "def percentdiff(A,B):\n",
    "    pd = 200*np.abs(A-B)/(A+B)\n",
    "    return pd\n",
    "\n",
    "def percenterr(T,M):\n",
    "    return 100*(T-M)/T\n",
    "\n",
    "def ivim(Bvals,f,Ds,D):\n",
    "    S = []\n",
    "    for i in range(len(Bvals)):\n",
    "        S.append(f*np.exp(-Ds*Bvals[i])+(1-f)*np.exp(-D*Bvals[i]))\n",
    "    return S\n",
    "\n",
    "def percenterr(T,M):\n",
    "    return 100*(T-M)/T\n",
    "B = [0,111, 222, 333, 444, 556, 667, 778, 889, 1000]\n",
    "def diffivim(Bvals,f,D): #high b values\n",
    "    S = []\n",
    "    for i in range(len(Bvals)):\n",
    "        S.append(func1(Bvals[i],f,D))\n",
    "    return S\n",
    "\n",
    "def plotfunc2(Bvals,f,Ds):\n",
    "    S = []\n",
    "    for i in range(len(Bvals)):\n",
    "        S.append(func2(Bvals[i],f,Ds))\n",
    "    return S\n",
    "# now comparing different fits (just to get pretty plot)\n",
    "B = [0,111, 222, 333, 444, 556, 667, 778, 889, 1000]\n",
    "def twostepfit(IVIM,Bvals,B_500): #for Fine B vals\n",
    "    p01 = [0.05,.0009] #f,D best\n",
    "    p02 = [0.05,.009] #f,Ds best\n",
    "    popt,pcov = op.curve_fit(func1,Bvals[B_500:],IVIM[B_500:], p01,bounds = (0,[1,1]))\n",
    "    fF = popt[0]\n",
    "    DF = popt[1]\n",
    "    IVIM2 = np.array(IVIM) - np.array(diffivim(Bvals,fF,DF))\n",
    "    popt,pcov = op.curve_fit(func2,Bvals[:B_500-1],IVIM2[:B_500-1], p02,bounds = (0,[1,1]))\n",
    "    fF2 = popt[0]\n",
    "    DsF = popt[1]\n",
    "    return [fF2,DsF,DF]\n",
    "\n",
    "def splitfit(IVIM,Bvals,B_500): #B_500 is the index of the b value that is >=500 (13)\n",
    "    #p01 = [.02,.0058] #f,D\n",
    "    p01 = [.05,.0009]\n",
    "    popt,pcov = op.curve_fit(func1,Bvals[B_500:],IVIM[B_500:], p01,bounds = (0,[.1,1]),maxfev = 10000)\n",
    "    f1 = popt[0]\n",
    "    D_fit = popt[1]\n",
    "    p02 = [.05,.009,D_fit] #f,Ds,D\n",
    "    popt,pcov = op.curve_fit(func,Bvals,IVIM, p02,bounds = ([0,0,D_fit],[1,1,D_fit+.001]),maxfev = 10000)\n",
    "    fF = popt[0]\n",
    "    DsF = popt[1]\n",
    "    DF = popt[2]\n",
    "    return [fF,DsF,DF]\n",
    "def simplefit(IVIM,Bvals):\n",
    "    p0 = [.05,.009,.0009] #f, Ds,D best\n",
    "    popt,pcov = op.curve_fit(func,Bvals,IVIM, p0,bounds = (0,[1,1,1]),maxfev = 10000)\n",
    "    fF = popt[0]\n",
    "    DsF = popt[1]\n",
    "    DF = popt[2]\n",
    "    return [fF,DsF,DF]\n",
    "def twosteprun(f,Ds,D,S,B_500):\n",
    "    #SigN = ivim(B,f,Ds,D)\n",
    "    [fF,DsF,DF] = twostepfit(S,B,B_500)\n",
    "    return [fF,DsF,DF],[percenterr(f,fF),percenterr(Ds,DsF),percenterr(D,DF)]\n",
    "def splitrun(f,Ds,D,S,B_500):\n",
    "    #SigN = ivim(B,f,Ds,D)\n",
    "    [fF,DsF,DF] = splitfit(S,B,B_500)\n",
    "    return [fF,DsF,DF],[percenterr(f,fF),percenterr(Ds,DsF),percenterr(D,DF)]\n",
    "def simplerun(f,Ds,D,S):\n",
    "    #SigN = ivim(B,f,Ds,D)\n",
    "    [fF,DsF,DF] = simplefit(S,B)\n",
    "    return [fF,DsF,DF],[percenterr(f,fF),percenterr(Ds,DsF),percenterr(D,DF)]\n",
    "\n",
    "def twosteprunBs(f,Ds,D,S,B_500,B):\n",
    "    #SigN = ivim(B,f,Ds,D)\n",
    "    [fF,DsF,DF] = twostepfit(S,B,B_500)\n",
    "    return [fF,DsF,DF],[percenterr(f,fF),percenterr(Ds,DsF),percenterr(D,DF)]\n",
    "\n",
    "def simplerunBs(f,Ds,D,S,B):\n",
    "    #SigN = ivim(B,f,Ds,D)\n",
    "    [fF,DsF,DF] = simplefit(S,B)\n",
    "    return [fF,DsF,DF],[percenterr(f,fF),percenterr(Ds,DsF),percenterr(D,DF)]\n",
    "\n",
    "def splitrunBs(f,Ds,D,S,B_500,B):\n",
    "    #SigN = ivim(B,f,Ds,D)\n",
    "    [fF,DsF,DF] = splitfit(S,B,B_500)\n",
    "    return [fF,DsF,DF],[percenterr(f,fF),percenterr(Ds,DsF),percenterr(D,DF)]\n",
    "\n",
    "\n",
    "def NoiseRice(I,sigma): # noise with rician distribution\n",
    "    N = [] \n",
    "    #v = .79 # calculated from images on 6/11/19\n",
    "    #sigma = .013 #(std of noise!)\n",
    "    #v = 0.00434 #scaled = .79/182\n",
    "    v = .005816 #scaled 6/27/19\n",
    "    b = v/sigma\n",
    "    r = rice.rvs(b, scale = sigma, size=len(I))\n",
    "    for i in range(0,len(I)):\n",
    "        N.append(I[i] +r[i]) #SNR = 1,10,22,100,150,inf\n",
    "    return N\n"
   ]
  },
  {
   "cell_type": "code",
   "execution_count": 7,
   "metadata": {},
   "outputs": [
    {
     "data": {
      "image/png": "[encoded data removed]",
      "text/plain": [
       "<Figure size 432x288 with 1 Axes>"
      ]
     },
     "metadata": {
      "needs_background": "light"
     },
     "output_type": "display_data"
    },
    {
     "name": "stdout",
     "output_type": "stream",
     "text": [
      "Done\n",
      "0.24326959243143925 0.002037885218534654\n",
      "0.26876562162204237 0.011624808544557878 0.002037885218534654\n"
     ]
    }
   ],
   "source": [
    "mat = scipy.io.loadmat('/Users/neuroimaging/Desktop/2225.mat')\n",
    "Sig = mat.get('Images_T')\n",
    "Sig.shape\n",
    "\n",
    "np.set_printoptions(threshold=np.inf)\n",
    "#B = [0,111, 222, 333, 444, 556, 667, 778, 889, 1000]\n",
    "B = [0, 0, 22, 44, 67, 89, 111, 133, 156, 178, 200, 222, 333, 444, 556, 667, 778, 889, 1000]\n",
    "f = np.zeros((128, 128))\n",
    "D = np.zeros((128, 128))\n",
    "Ds = np.zeros((128, 128))\n",
    "p0=[.02,.0016,.0058]\n",
    "x = np.linspace(-10,1000,20)\n",
    "B_500 = 12\n",
    "#for i in range(40,90):\n",
    "i = 40\n",
    "j = 40\n",
    "if i ==40:\n",
    "    #for j in range(40,90):\n",
    "    #for j in range(40,42):\n",
    "    if j ==40:\n",
    "        A = []\n",
    "        for b in range(0,19): #18 b values\n",
    "            #p0=[.02,.0016,.0058] #f,Ds,D\n",
    "            A.append(Sig[24][b][i][j])\n",
    "        AN = []\n",
    "        for bs in range(0,11): #Un normalized A --> normalized AN\n",
    "            AN.append(A[bs]/A[0])\n",
    "        for bs in range(11,19):\n",
    "            AN.append(A[bs]/A[1])\n",
    "        if A[0]==0:\n",
    "            f[i][j] = 0.\n",
    "            Ds[i][j]=0.\n",
    "            D[i][j]=0.\n",
    "        if A[0]<100:\n",
    "            f[i][j] = 0.\n",
    "            Ds[i][j]=0.\n",
    "            D[i][j]=0.\n",
    "        if A[1]==0:\n",
    "            f[i][j] = 0.\n",
    "            Ds[i][j]=0.\n",
    "            D[i][j]=0.\n",
    "        if A[1]<100:\n",
    "            f[i][j] = 0.\n",
    "            Ds[i][j]=0.\n",
    "            D[i][j]=0.\n",
    "        else:\n",
    "            p01 = [0.05,.0009] #f,D best\n",
    "            p02 = [0.05,.009] #f,Ds best\n",
    "            popt,pcov = op.curve_fit(func1,B[B_500:],AN[B_500:], p01,bounds = (0,[1,1]))\n",
    "            fF = popt[0]\n",
    "            DF = popt[1]\n",
    "            pl.plot(x,func1(x,*popt),label = 'Diffusion',color = 'green')\n",
    "            IVIM2 = np.array(AN) - np.array(diffivim(B,fF,DF))\n",
    "            popt2,pcov = op.curve_fit(func2,B[:B_500-1],IVIM2[:B_500-1], p02,bounds = (0,[1,1]))\n",
    "            fF2 = popt2[0]\n",
    "            DsF = popt2[1]\n",
    "            #pl.title('Example of 2step fit')\n",
    "            pl.plot(x,func(x,fF2,DsF,DF),label = 'Perfusion and\\nDiffusion',color = 'orange')\n",
    "            #pl.scatter(B,A[:]/A[0],label = 'Data')\n",
    "            A10 = []\n",
    "            A10.append(A[0])\n",
    "            A10.append(A[6])\n",
    "            A10.append(A[10])\n",
    "            for i in range(len(A[12:])):\n",
    "                A10.append(A[i+12])\n",
    "            B2 = [0,111, 222, 333, 444, 556, 667, 778, 889, 1000]\n",
    "            pl.scatter(B2,A10/A10[0])\n",
    "            pl.xlabel('$b$ values $\\\\frac{s}{mm^2}$')\n",
    "            pl.ylabel('Normalized signal')\n",
    "            pl.legend()\n",
    "            pl.savefig('IVIM_FIT_Data.tiff',dpi=1000)\n",
    "            pl.show()\n",
    "#pl.plot(x,func(x,*popt),label = 'fit')\n",
    "#pl.scatter(B,A[1:]/A[0])\n",
    "\n",
    "#pl.show()\n",
    "#print(popt)\n",
    "\n",
    "#ok check matlab ?\n",
    "print('Done')\n",
    "#pl.imshow(f*Ds) #checking \n",
    "print(fF,DF)\n",
    "print(fF2,DsF,DF)"
   ]
  },
  {
   "cell_type": "markdown",
   "metadata": {},
   "source": [
    "# THRESHOLD B VALUE"
   ]
  },
  {
   "cell_type": "code",
   "execution_count": 3,
   "metadata": {},
   "outputs": [
    {
     "name": "stderr",
     "output_type": "stream",
     "text": [
      "/Users/neuroimaging/anaconda3/lib/python3.7/site-packages/scipy/optimize/minpack.py:787: OptimizeWarning: Covariance of the parameters could not be estimated\n",
      "  category=OptimizeWarning)\n"
     ]
    },
    {
     "ename": "KeyboardInterrupt",
     "evalue": "",
     "output_type": "error",
     "traceback": [
      "\u001b[0;31m---------------------------------------------------------------------------\u001b[0m",
      "\u001b[0;31mKeyboardInterrupt\u001b[0m                         Traceback (most recent call last)",
      "\u001b[0;32m<ipython-input-3-ef14bfe8c3e8>\u001b[0m in \u001b[0;36m<module>\u001b[0;34m\u001b[0m\n\u001b[1;32m     14\u001b[0m     \u001b[0;34m[\u001b[0m\u001b[0mfB\u001b[0m\u001b[0;34m,\u001b[0m\u001b[0mDsB\u001b[0m\u001b[0;34m,\u001b[0m\u001b[0mDB\u001b[0m\u001b[0;34m]\u001b[0m\u001b[0;34m,\u001b[0m\u001b[0;34m[\u001b[0m\u001b[0mferr3\u001b[0m\u001b[0;34m,\u001b[0m\u001b[0mDserr3\u001b[0m\u001b[0;34m,\u001b[0m\u001b[0mDerr3\u001b[0m\u001b[0;34m]\u001b[0m \u001b[0;34m=\u001b[0m \u001b[0mtwosteprun\u001b[0m\u001b[0;34m(\u001b[0m\u001b[0mf\u001b[0m\u001b[0;34m,\u001b[0m\u001b[0mDs\u001b[0m\u001b[0;34m,\u001b[0m\u001b[0mD\u001b[0m\u001b[0;34m,\u001b[0m\u001b[0mS\u001b[0m\u001b[0;34m,\u001b[0m\u001b[0;36m3\u001b[0m\u001b[0;34m)\u001b[0m\u001b[0;34m\u001b[0m\u001b[0;34m\u001b[0m\u001b[0m\n\u001b[1;32m     15\u001b[0m     \u001b[0mTSR3\u001b[0m\u001b[0;34m.\u001b[0m\u001b[0mappend\u001b[0m\u001b[0;34m(\u001b[0m\u001b[0mferr3\u001b[0m\u001b[0;34m)\u001b[0m\u001b[0;34m,\u001b[0m\u001b[0mTSR3\u001b[0m\u001b[0;34m.\u001b[0m\u001b[0mappend\u001b[0m\u001b[0;34m(\u001b[0m\u001b[0mDserr3\u001b[0m\u001b[0;34m)\u001b[0m\u001b[0;34m,\u001b[0m\u001b[0mTSR3\u001b[0m\u001b[0;34m.\u001b[0m\u001b[0mappend\u001b[0m\u001b[0;34m(\u001b[0m\u001b[0mDerr3\u001b[0m\u001b[0;34m)\u001b[0m\u001b[0;34m\u001b[0m\u001b[0;34m\u001b[0m\u001b[0m\n\u001b[0;32m---> 16\u001b[0;31m     \u001b[0;34m[\u001b[0m\u001b[0mfB\u001b[0m\u001b[0;34m,\u001b[0m\u001b[0mDsB\u001b[0m\u001b[0;34m,\u001b[0m\u001b[0mDB\u001b[0m\u001b[0;34m]\u001b[0m\u001b[0;34m,\u001b[0m\u001b[0;34m[\u001b[0m\u001b[0mferr2\u001b[0m\u001b[0;34m,\u001b[0m\u001b[0mDserr2\u001b[0m\u001b[0;34m,\u001b[0m\u001b[0mDerr2\u001b[0m\u001b[0;34m]\u001b[0m \u001b[0;34m=\u001b[0m \u001b[0mtwosteprun\u001b[0m\u001b[0;34m(\u001b[0m\u001b[0mf\u001b[0m\u001b[0;34m,\u001b[0m\u001b[0mDs\u001b[0m\u001b[0;34m,\u001b[0m\u001b[0mD\u001b[0m\u001b[0;34m,\u001b[0m\u001b[0mS\u001b[0m\u001b[0;34m,\u001b[0m\u001b[0;36m2\u001b[0m\u001b[0;34m)\u001b[0m\u001b[0;34m\u001b[0m\u001b[0;34m\u001b[0m\u001b[0m\n\u001b[0m\u001b[1;32m     17\u001b[0m     \u001b[0mTSR2\u001b[0m\u001b[0;34m.\u001b[0m\u001b[0mappend\u001b[0m\u001b[0;34m(\u001b[0m\u001b[0mferr2\u001b[0m\u001b[0;34m)\u001b[0m\u001b[0;34m,\u001b[0m\u001b[0mTSR2\u001b[0m\u001b[0;34m.\u001b[0m\u001b[0mappend\u001b[0m\u001b[0;34m(\u001b[0m\u001b[0mDserr2\u001b[0m\u001b[0;34m)\u001b[0m\u001b[0;34m,\u001b[0m\u001b[0mTSR2\u001b[0m\u001b[0;34m.\u001b[0m\u001b[0mappend\u001b[0m\u001b[0;34m(\u001b[0m\u001b[0mDerr2\u001b[0m\u001b[0;34m)\u001b[0m\u001b[0;34m\u001b[0m\u001b[0;34m\u001b[0m\u001b[0m\n",
      "\u001b[0;32m<ipython-input-2-ad3075272bab>\u001b[0m in \u001b[0;36mtwosteprun\u001b[0;34m(f, Ds, D, S, B_500)\u001b[0m\n\u001b[1;32m    101\u001b[0m \u001b[0;32mdef\u001b[0m \u001b[0mtwosteprun\u001b[0m\u001b[0;34m(\u001b[0m\u001b[0mf\u001b[0m\u001b[0;34m,\u001b[0m\u001b[0mDs\u001b[0m\u001b[0;34m,\u001b[0m\u001b[0mD\u001b[0m\u001b[0;34m,\u001b[0m\u001b[0mS\u001b[0m\u001b[0;34m,\u001b[0m\u001b[0mB_500\u001b[0m\u001b[0;34m)\u001b[0m\u001b[0;34m:\u001b[0m\u001b[0;34m\u001b[0m\u001b[0;34m\u001b[0m\u001b[0m\n\u001b[1;32m    102\u001b[0m     \u001b[0;31m#SigN = ivim(B,f,Ds,D)\u001b[0m\u001b[0;34m\u001b[0m\u001b[0;34m\u001b[0m\u001b[0;34m\u001b[0m\u001b[0m\n\u001b[0;32m--> 103\u001b[0;31m     \u001b[0;34m[\u001b[0m\u001b[0mfF\u001b[0m\u001b[0;34m,\u001b[0m\u001b[0mDsF\u001b[0m\u001b[0;34m,\u001b[0m\u001b[0mDF\u001b[0m\u001b[0;34m]\u001b[0m \u001b[0;34m=\u001b[0m \u001b[0mtwostepfit\u001b[0m\u001b[0;34m(\u001b[0m\u001b[0mS\u001b[0m\u001b[0;34m,\u001b[0m\u001b[0mB\u001b[0m\u001b[0;34m,\u001b[0m\u001b[0mB_500\u001b[0m\u001b[0;34m)\u001b[0m\u001b[0;34m\u001b[0m\u001b[0;34m\u001b[0m\u001b[0m\n\u001b[0m\u001b[1;32m    104\u001b[0m     \u001b[0;32mreturn\u001b[0m \u001b[0;34m[\u001b[0m\u001b[0mfF\u001b[0m\u001b[0;34m,\u001b[0m\u001b[0mDsF\u001b[0m\u001b[0;34m,\u001b[0m\u001b[0mDF\u001b[0m\u001b[0;34m]\u001b[0m\u001b[0;34m,\u001b[0m\u001b[0;34m[\u001b[0m\u001b[0mpercenterr\u001b[0m\u001b[0;34m(\u001b[0m\u001b[0mf\u001b[0m\u001b[0;34m,\u001b[0m\u001b[0mfF\u001b[0m\u001b[0;34m)\u001b[0m\u001b[0;34m,\u001b[0m\u001b[0mpercenterr\u001b[0m\u001b[0;34m(\u001b[0m\u001b[0mDs\u001b[0m\u001b[0;34m,\u001b[0m\u001b[0mDsF\u001b[0m\u001b[0;34m)\u001b[0m\u001b[0;34m,\u001b[0m\u001b[0mpercenterr\u001b[0m\u001b[0;34m(\u001b[0m\u001b[0mD\u001b[0m\u001b[0;34m,\u001b[0m\u001b[0mDF\u001b[0m\u001b[0;34m)\u001b[0m\u001b[0;34m]\u001b[0m\u001b[0;34m\u001b[0m\u001b[0;34m\u001b[0m\u001b[0m\n\u001b[1;32m    105\u001b[0m \u001b[0;32mdef\u001b[0m \u001b[0msplitrun\u001b[0m\u001b[0;34m(\u001b[0m\u001b[0mf\u001b[0m\u001b[0;34m,\u001b[0m\u001b[0mDs\u001b[0m\u001b[0;34m,\u001b[0m\u001b[0mD\u001b[0m\u001b[0;34m,\u001b[0m\u001b[0mS\u001b[0m\u001b[0;34m,\u001b[0m\u001b[0mB_500\u001b[0m\u001b[0;34m)\u001b[0m\u001b[0;34m:\u001b[0m\u001b[0;34m\u001b[0m\u001b[0;34m\u001b[0m\u001b[0m\n",
      "\u001b[0;32m<ipython-input-2-ad3075272bab>\u001b[0m in \u001b[0;36mtwostepfit\u001b[0;34m(IVIM, Bvals, B_500)\u001b[0m\n\u001b[1;32m     75\u001b[0m     \u001b[0mDF\u001b[0m \u001b[0;34m=\u001b[0m \u001b[0mpopt\u001b[0m\u001b[0;34m[\u001b[0m\u001b[0;36m1\u001b[0m\u001b[0;34m]\u001b[0m\u001b[0;34m\u001b[0m\u001b[0;34m\u001b[0m\u001b[0m\n\u001b[1;32m     76\u001b[0m     \u001b[0mIVIM2\u001b[0m \u001b[0;34m=\u001b[0m \u001b[0mnp\u001b[0m\u001b[0;34m.\u001b[0m\u001b[0marray\u001b[0m\u001b[0;34m(\u001b[0m\u001b[0mIVIM\u001b[0m\u001b[0;34m)\u001b[0m \u001b[0;34m-\u001b[0m \u001b[0mnp\u001b[0m\u001b[0;34m.\u001b[0m\u001b[0marray\u001b[0m\u001b[0;34m(\u001b[0m\u001b[0mdiffivim\u001b[0m\u001b[0;34m(\u001b[0m\u001b[0mBvals\u001b[0m\u001b[0;34m,\u001b[0m\u001b[0mfF\u001b[0m\u001b[0;34m,\u001b[0m\u001b[0mDF\u001b[0m\u001b[0;34m)\u001b[0m\u001b[0;34m)\u001b[0m\u001b[0;34m\u001b[0m\u001b[0;34m\u001b[0m\u001b[0m\n\u001b[0;32m---> 77\u001b[0;31m     \u001b[0mpopt\u001b[0m\u001b[0;34m,\u001b[0m\u001b[0mpcov\u001b[0m \u001b[0;34m=\u001b[0m \u001b[0mop\u001b[0m\u001b[0;34m.\u001b[0m\u001b[0mcurve_fit\u001b[0m\u001b[0;34m(\u001b[0m\u001b[0mfunc2\u001b[0m\u001b[0;34m,\u001b[0m\u001b[0mBvals\u001b[0m\u001b[0;34m[\u001b[0m\u001b[0;34m:\u001b[0m\u001b[0mB_500\u001b[0m\u001b[0;34m-\u001b[0m\u001b[0;36m1\u001b[0m\u001b[0;34m]\u001b[0m\u001b[0;34m,\u001b[0m\u001b[0mIVIM2\u001b[0m\u001b[0;34m[\u001b[0m\u001b[0;34m:\u001b[0m\u001b[0mB_500\u001b[0m\u001b[0;34m-\u001b[0m\u001b[0;36m1\u001b[0m\u001b[0;34m]\u001b[0m\u001b[0;34m,\u001b[0m \u001b[0mp02\u001b[0m\u001b[0;34m,\u001b[0m\u001b[0mbounds\u001b[0m \u001b[0;34m=\u001b[0m \u001b[0;34m(\u001b[0m\u001b[0;36m0\u001b[0m\u001b[0;34m,\u001b[0m\u001b[0;34m[\u001b[0m\u001b[0;36m1\u001b[0m\u001b[0;34m,\u001b[0m\u001b[0;36m1\u001b[0m\u001b[0;34m]\u001b[0m\u001b[0;34m)\u001b[0m\u001b[0;34m)\u001b[0m\u001b[0;34m\u001b[0m\u001b[0;34m\u001b[0m\u001b[0m\n\u001b[0m\u001b[1;32m     78\u001b[0m     \u001b[0mfF2\u001b[0m \u001b[0;34m=\u001b[0m \u001b[0mpopt\u001b[0m\u001b[0;34m[\u001b[0m\u001b[0;36m0\u001b[0m\u001b[0;34m]\u001b[0m\u001b[0;34m\u001b[0m\u001b[0;34m\u001b[0m\u001b[0m\n\u001b[1;32m     79\u001b[0m     \u001b[0mDsF\u001b[0m \u001b[0;34m=\u001b[0m \u001b[0mpopt\u001b[0m\u001b[0;34m[\u001b[0m\u001b[0;36m1\u001b[0m\u001b[0;34m]\u001b[0m\u001b[0;34m\u001b[0m\u001b[0;34m\u001b[0m\u001b[0m\n",
      "\u001b[0;32m~/anaconda3/lib/python3.7/site-packages/scipy/optimize/minpack.py\u001b[0m in \u001b[0;36mcurve_fit\u001b[0;34m(f, xdata, ydata, p0, sigma, absolute_sigma, check_finite, bounds, method, jac, **kwargs)\u001b[0m\n\u001b[1;32m    753\u001b[0m \u001b[0;34m\u001b[0m\u001b[0m\n\u001b[1;32m    754\u001b[0m         res = least_squares(func, p0, jac=jac, bounds=bounds, method=method,\n\u001b[0;32m--> 755\u001b[0;31m                             **kwargs)\n\u001b[0m\u001b[1;32m    756\u001b[0m \u001b[0;34m\u001b[0m\u001b[0m\n\u001b[1;32m    757\u001b[0m         \u001b[0;32mif\u001b[0m \u001b[0;32mnot\u001b[0m \u001b[0mres\u001b[0m\u001b[0;34m.\u001b[0m\u001b[0msuccess\u001b[0m\u001b[0;34m:\u001b[0m\u001b[0;34m\u001b[0m\u001b[0;34m\u001b[0m\u001b[0m\n",
      "\u001b[0;32m~/anaconda3/lib/python3.7/site-packages/scipy/optimize/_lsq/least_squares.py\u001b[0m in \u001b[0;36mleast_squares\u001b[0;34m(fun, x0, jac, bounds, method, ftol, xtol, gtol, x_scale, loss, f_scale, diff_step, tr_solver, tr_options, jac_sparsity, max_nfev, verbose, args, kwargs)\u001b[0m\n\u001b[1;32m    905\u001b[0m         result = trf(fun_wrapped, jac_wrapped, x0, f0, J0, lb, ub, ftol, xtol,\n\u001b[1;32m    906\u001b[0m                      \u001b[0mgtol\u001b[0m\u001b[0;34m,\u001b[0m \u001b[0mmax_nfev\u001b[0m\u001b[0;34m,\u001b[0m \u001b[0mx_scale\u001b[0m\u001b[0;34m,\u001b[0m \u001b[0mloss_function\u001b[0m\u001b[0;34m,\u001b[0m \u001b[0mtr_solver\u001b[0m\u001b[0;34m,\u001b[0m\u001b[0;34m\u001b[0m\u001b[0;34m\u001b[0m\u001b[0m\n\u001b[0;32m--> 907\u001b[0;31m                      tr_options.copy(), verbose)\n\u001b[0m\u001b[1;32m    908\u001b[0m \u001b[0;34m\u001b[0m\u001b[0m\n\u001b[1;32m    909\u001b[0m     \u001b[0;32melif\u001b[0m \u001b[0mmethod\u001b[0m \u001b[0;34m==\u001b[0m \u001b[0;34m'dogbox'\u001b[0m\u001b[0;34m:\u001b[0m\u001b[0;34m\u001b[0m\u001b[0;34m\u001b[0m\u001b[0m\n",
      "\u001b[0;32m~/anaconda3/lib/python3.7/site-packages/scipy/optimize/_lsq/trf.py\u001b[0m in \u001b[0;36mtrf\u001b[0;34m(fun, jac, x0, f0, J0, lb, ub, ftol, xtol, gtol, max_nfev, x_scale, loss_function, tr_solver, tr_options, verbose)\u001b[0m\n\u001b[1;32m    126\u001b[0m         return trf_bounds(\n\u001b[1;32m    127\u001b[0m             \u001b[0mfun\u001b[0m\u001b[0;34m,\u001b[0m \u001b[0mjac\u001b[0m\u001b[0;34m,\u001b[0m \u001b[0mx0\u001b[0m\u001b[0;34m,\u001b[0m \u001b[0mf0\u001b[0m\u001b[0;34m,\u001b[0m \u001b[0mJ0\u001b[0m\u001b[0;34m,\u001b[0m \u001b[0mlb\u001b[0m\u001b[0;34m,\u001b[0m \u001b[0mub\u001b[0m\u001b[0;34m,\u001b[0m \u001b[0mftol\u001b[0m\u001b[0;34m,\u001b[0m \u001b[0mxtol\u001b[0m\u001b[0;34m,\u001b[0m \u001b[0mgtol\u001b[0m\u001b[0;34m,\u001b[0m \u001b[0mmax_nfev\u001b[0m\u001b[0;34m,\u001b[0m \u001b[0mx_scale\u001b[0m\u001b[0;34m,\u001b[0m\u001b[0;34m\u001b[0m\u001b[0;34m\u001b[0m\u001b[0m\n\u001b[0;32m--> 128\u001b[0;31m             loss_function, tr_solver, tr_options, verbose)\n\u001b[0m\u001b[1;32m    129\u001b[0m \u001b[0;34m\u001b[0m\u001b[0m\n\u001b[1;32m    130\u001b[0m \u001b[0;34m\u001b[0m\u001b[0m\n",
      "\u001b[0;32m~/anaconda3/lib/python3.7/site-packages/scipy/optimize/_lsq/trf.py\u001b[0m in \u001b[0;36mtrf_bounds\u001b[0;34m(fun, jac, x0, f0, J0, lb, ub, ftol, xtol, gtol, max_nfev, x_scale, loss_function, tr_solver, tr_options, verbose)\u001b[0m\n\u001b[1;32m    380\u001b[0m             \u001b[0mcost\u001b[0m \u001b[0;34m=\u001b[0m \u001b[0mcost_new\u001b[0m\u001b[0;34m\u001b[0m\u001b[0;34m\u001b[0m\u001b[0m\n\u001b[1;32m    381\u001b[0m \u001b[0;34m\u001b[0m\u001b[0m\n\u001b[0;32m--> 382\u001b[0;31m             \u001b[0mJ\u001b[0m \u001b[0;34m=\u001b[0m \u001b[0mjac\u001b[0m\u001b[0;34m(\u001b[0m\u001b[0mx\u001b[0m\u001b[0;34m,\u001b[0m \u001b[0mf\u001b[0m\u001b[0;34m)\u001b[0m\u001b[0;34m\u001b[0m\u001b[0;34m\u001b[0m\u001b[0m\n\u001b[0m\u001b[1;32m    383\u001b[0m             \u001b[0mnjev\u001b[0m \u001b[0;34m+=\u001b[0m \u001b[0;36m1\u001b[0m\u001b[0;34m\u001b[0m\u001b[0;34m\u001b[0m\u001b[0m\n\u001b[1;32m    384\u001b[0m \u001b[0;34m\u001b[0m\u001b[0m\n",
      "\u001b[0;32m~/anaconda3/lib/python3.7/site-packages/scipy/optimize/_lsq/least_squares.py\u001b[0m in \u001b[0;36mjac_wrapped\u001b[0;34m(x, f)\u001b[0m\n\u001b[1;32m    863\u001b[0m                 J = approx_derivative(fun, x, rel_step=diff_step, method=jac,\n\u001b[1;32m    864\u001b[0m                                       \u001b[0mf0\u001b[0m\u001b[0;34m=\u001b[0m\u001b[0mf\u001b[0m\u001b[0;34m,\u001b[0m \u001b[0mbounds\u001b[0m\u001b[0;34m=\u001b[0m\u001b[0mbounds\u001b[0m\u001b[0;34m,\u001b[0m \u001b[0margs\u001b[0m\u001b[0;34m=\u001b[0m\u001b[0margs\u001b[0m\u001b[0;34m,\u001b[0m\u001b[0;34m\u001b[0m\u001b[0;34m\u001b[0m\u001b[0m\n\u001b[0;32m--> 865\u001b[0;31m                                       kwargs=kwargs, sparsity=jac_sparsity)\n\u001b[0m\u001b[1;32m    866\u001b[0m                 \u001b[0;32mif\u001b[0m \u001b[0mJ\u001b[0m\u001b[0;34m.\u001b[0m\u001b[0mndim\u001b[0m \u001b[0;34m!=\u001b[0m \u001b[0;36m2\u001b[0m\u001b[0;34m:\u001b[0m  \u001b[0;31m# J is guaranteed not sparse.\u001b[0m\u001b[0;34m\u001b[0m\u001b[0;34m\u001b[0m\u001b[0m\n\u001b[1;32m    867\u001b[0m                     \u001b[0mJ\u001b[0m \u001b[0;34m=\u001b[0m \u001b[0mnp\u001b[0m\u001b[0;34m.\u001b[0m\u001b[0matleast_2d\u001b[0m\u001b[0;34m(\u001b[0m\u001b[0mJ\u001b[0m\u001b[0;34m)\u001b[0m\u001b[0;34m\u001b[0m\u001b[0;34m\u001b[0m\u001b[0m\n",
      "\u001b[0;32m~/anaconda3/lib/python3.7/site-packages/scipy/optimize/_numdiff.py\u001b[0m in \u001b[0;36mapprox_derivative\u001b[0;34m(fun, x0, method, rel_step, f0, bounds, sparsity, as_linear_operator, args, kwargs)\u001b[0m\n\u001b[1;32m    382\u001b[0m         \u001b[0;32mif\u001b[0m \u001b[0msparsity\u001b[0m \u001b[0;32mis\u001b[0m \u001b[0;32mNone\u001b[0m\u001b[0;34m:\u001b[0m\u001b[0;34m\u001b[0m\u001b[0;34m\u001b[0m\u001b[0m\n\u001b[1;32m    383\u001b[0m             return _dense_difference(fun_wrapped, x0, f0, h,\n\u001b[0;32m--> 384\u001b[0;31m                                      use_one_sided, method)\n\u001b[0m\u001b[1;32m    385\u001b[0m         \u001b[0;32melse\u001b[0m\u001b[0;34m:\u001b[0m\u001b[0;34m\u001b[0m\u001b[0;34m\u001b[0m\u001b[0m\n\u001b[1;32m    386\u001b[0m             \u001b[0;32mif\u001b[0m \u001b[0;32mnot\u001b[0m \u001b[0missparse\u001b[0m\u001b[0;34m(\u001b[0m\u001b[0msparsity\u001b[0m\u001b[0;34m)\u001b[0m \u001b[0;32mand\u001b[0m \u001b[0mlen\u001b[0m\u001b[0;34m(\u001b[0m\u001b[0msparsity\u001b[0m\u001b[0;34m)\u001b[0m \u001b[0;34m==\u001b[0m \u001b[0;36m2\u001b[0m\u001b[0;34m:\u001b[0m\u001b[0;34m\u001b[0m\u001b[0;34m\u001b[0m\u001b[0m\n",
      "\u001b[0;32m~/anaconda3/lib/python3.7/site-packages/scipy/optimize/_numdiff.py\u001b[0m in \u001b[0;36m_dense_difference\u001b[0;34m(fun, x0, f0, h, use_one_sided, method)\u001b[0m\n\u001b[1;32m    452\u001b[0m             \u001b[0mx\u001b[0m \u001b[0;34m=\u001b[0m \u001b[0mx0\u001b[0m \u001b[0;34m+\u001b[0m \u001b[0mh_vecs\u001b[0m\u001b[0;34m[\u001b[0m\u001b[0mi\u001b[0m\u001b[0;34m]\u001b[0m\u001b[0;34m\u001b[0m\u001b[0;34m\u001b[0m\u001b[0m\n\u001b[1;32m    453\u001b[0m             \u001b[0mdx\u001b[0m \u001b[0;34m=\u001b[0m \u001b[0mx\u001b[0m\u001b[0;34m[\u001b[0m\u001b[0mi\u001b[0m\u001b[0;34m]\u001b[0m \u001b[0;34m-\u001b[0m \u001b[0mx0\u001b[0m\u001b[0;34m[\u001b[0m\u001b[0mi\u001b[0m\u001b[0;34m]\u001b[0m  \u001b[0;31m# Recompute dx as exactly representable number.\u001b[0m\u001b[0;34m\u001b[0m\u001b[0;34m\u001b[0m\u001b[0m\n\u001b[0;32m--> 454\u001b[0;31m             \u001b[0mdf\u001b[0m \u001b[0;34m=\u001b[0m \u001b[0mfun\u001b[0m\u001b[0;34m(\u001b[0m\u001b[0mx\u001b[0m\u001b[0;34m)\u001b[0m \u001b[0;34m-\u001b[0m \u001b[0mf0\u001b[0m\u001b[0;34m\u001b[0m\u001b[0;34m\u001b[0m\u001b[0m\n\u001b[0m\u001b[1;32m    455\u001b[0m         \u001b[0;32melif\u001b[0m \u001b[0mmethod\u001b[0m \u001b[0;34m==\u001b[0m \u001b[0;34m'3-point'\u001b[0m \u001b[0;32mand\u001b[0m \u001b[0muse_one_sided\u001b[0m\u001b[0;34m[\u001b[0m\u001b[0mi\u001b[0m\u001b[0;34m]\u001b[0m\u001b[0;34m:\u001b[0m\u001b[0;34m\u001b[0m\u001b[0;34m\u001b[0m\u001b[0m\n\u001b[1;32m    456\u001b[0m             \u001b[0mx1\u001b[0m \u001b[0;34m=\u001b[0m \u001b[0mx0\u001b[0m \u001b[0;34m+\u001b[0m \u001b[0mh_vecs\u001b[0m\u001b[0;34m[\u001b[0m\u001b[0mi\u001b[0m\u001b[0;34m]\u001b[0m\u001b[0;34m\u001b[0m\u001b[0;34m\u001b[0m\u001b[0m\n",
      "\u001b[0;32m~/anaconda3/lib/python3.7/site-packages/scipy/optimize/_numdiff.py\u001b[0m in \u001b[0;36mfun_wrapped\u001b[0;34m(x)\u001b[0m\n\u001b[1;32m    346\u001b[0m \u001b[0;34m\u001b[0m\u001b[0m\n\u001b[1;32m    347\u001b[0m     \u001b[0;32mdef\u001b[0m \u001b[0mfun_wrapped\u001b[0m\u001b[0;34m(\u001b[0m\u001b[0mx\u001b[0m\u001b[0;34m)\u001b[0m\u001b[0;34m:\u001b[0m\u001b[0;34m\u001b[0m\u001b[0;34m\u001b[0m\u001b[0m\n\u001b[0;32m--> 348\u001b[0;31m         \u001b[0mf\u001b[0m \u001b[0;34m=\u001b[0m \u001b[0mnp\u001b[0m\u001b[0;34m.\u001b[0m\u001b[0matleast_1d\u001b[0m\u001b[0;34m(\u001b[0m\u001b[0mfun\u001b[0m\u001b[0;34m(\u001b[0m\u001b[0mx\u001b[0m\u001b[0;34m,\u001b[0m \u001b[0;34m*\u001b[0m\u001b[0margs\u001b[0m\u001b[0;34m,\u001b[0m \u001b[0;34m**\u001b[0m\u001b[0mkwargs\u001b[0m\u001b[0;34m)\u001b[0m\u001b[0;34m)\u001b[0m\u001b[0;34m\u001b[0m\u001b[0;34m\u001b[0m\u001b[0m\n\u001b[0m\u001b[1;32m    349\u001b[0m         \u001b[0;32mif\u001b[0m \u001b[0mf\u001b[0m\u001b[0;34m.\u001b[0m\u001b[0mndim\u001b[0m \u001b[0;34m>\u001b[0m \u001b[0;36m1\u001b[0m\u001b[0;34m:\u001b[0m\u001b[0;34m\u001b[0m\u001b[0;34m\u001b[0m\u001b[0m\n\u001b[1;32m    350\u001b[0m             raise RuntimeError(\"`fun` return value has \"\n",
      "\u001b[0;32m~/anaconda3/lib/python3.7/site-packages/scipy/optimize/minpack.py\u001b[0m in \u001b[0;36mfunc_wrapped\u001b[0;34m(params)\u001b[0m\n\u001b[1;32m    454\u001b[0m     \u001b[0;32mif\u001b[0m \u001b[0mtransform\u001b[0m \u001b[0;32mis\u001b[0m \u001b[0;32mNone\u001b[0m\u001b[0;34m:\u001b[0m\u001b[0;34m\u001b[0m\u001b[0;34m\u001b[0m\u001b[0m\n\u001b[1;32m    455\u001b[0m         \u001b[0;32mdef\u001b[0m \u001b[0mfunc_wrapped\u001b[0m\u001b[0;34m(\u001b[0m\u001b[0mparams\u001b[0m\u001b[0;34m)\u001b[0m\u001b[0;34m:\u001b[0m\u001b[0;34m\u001b[0m\u001b[0;34m\u001b[0m\u001b[0m\n\u001b[0;32m--> 456\u001b[0;31m             \u001b[0;32mreturn\u001b[0m \u001b[0mfunc\u001b[0m\u001b[0;34m(\u001b[0m\u001b[0mxdata\u001b[0m\u001b[0;34m,\u001b[0m \u001b[0;34m*\u001b[0m\u001b[0mparams\u001b[0m\u001b[0;34m)\u001b[0m \u001b[0;34m-\u001b[0m \u001b[0mydata\u001b[0m\u001b[0;34m\u001b[0m\u001b[0;34m\u001b[0m\u001b[0m\n\u001b[0m\u001b[1;32m    457\u001b[0m     \u001b[0;32melif\u001b[0m \u001b[0mtransform\u001b[0m\u001b[0;34m.\u001b[0m\u001b[0mndim\u001b[0m \u001b[0;34m==\u001b[0m \u001b[0;36m1\u001b[0m\u001b[0;34m:\u001b[0m\u001b[0;34m\u001b[0m\u001b[0;34m\u001b[0m\u001b[0m\n\u001b[1;32m    458\u001b[0m         \u001b[0;32mdef\u001b[0m \u001b[0mfunc_wrapped\u001b[0m\u001b[0;34m(\u001b[0m\u001b[0mparams\u001b[0m\u001b[0;34m)\u001b[0m\u001b[0;34m:\u001b[0m\u001b[0;34m\u001b[0m\u001b[0;34m\u001b[0m\u001b[0m\n",
      "\u001b[0;32m<ipython-input-2-ad3075272bab>\u001b[0m in \u001b[0;36mfunc2\u001b[0;34m(b, f, Ds)\u001b[0m\n\u001b[1;32m     37\u001b[0m \u001b[0;34m\u001b[0m\u001b[0m\n\u001b[1;32m     38\u001b[0m \u001b[0;32mdef\u001b[0m \u001b[0mfunc2\u001b[0m\u001b[0;34m(\u001b[0m\u001b[0mb\u001b[0m\u001b[0;34m,\u001b[0m\u001b[0mf\u001b[0m\u001b[0;34m,\u001b[0m\u001b[0mDs\u001b[0m\u001b[0;34m)\u001b[0m\u001b[0;34m:\u001b[0m\u001b[0;34m\u001b[0m\u001b[0;34m\u001b[0m\u001b[0m\n\u001b[0;32m---> 39\u001b[0;31m     \u001b[0;32mreturn\u001b[0m \u001b[0mf\u001b[0m\u001b[0;34m*\u001b[0m\u001b[0mnp\u001b[0m\u001b[0;34m.\u001b[0m\u001b[0mexp\u001b[0m\u001b[0;34m(\u001b[0m\u001b[0;34m-\u001b[0m\u001b[0mDs\u001b[0m\u001b[0;34m*\u001b[0m\u001b[0mb\u001b[0m\u001b[0;34m)\u001b[0m\u001b[0;34m\u001b[0m\u001b[0;34m\u001b[0m\u001b[0m\n\u001b[0m\u001b[1;32m     40\u001b[0m \u001b[0;34m\u001b[0m\u001b[0m\n\u001b[1;32m     41\u001b[0m \u001b[0;32mdef\u001b[0m \u001b[0mpercentdiff\u001b[0m\u001b[0;34m(\u001b[0m\u001b[0mA\u001b[0m\u001b[0;34m,\u001b[0m\u001b[0mB\u001b[0m\u001b[0;34m)\u001b[0m\u001b[0;34m:\u001b[0m\u001b[0;34m\u001b[0m\u001b[0;34m\u001b[0m\u001b[0m\n",
      "\u001b[0;31mKeyboardInterrupt\u001b[0m: "
     ]
    }
   ],
   "source": [
    "# comparing b values for 2step run\n",
    "#B = [0,111, 222, 333, 444, 556, 667, 778, 889, 1000]\n",
    "TSR5 = [] #2step run 500\n",
    "TSR2 = [] #2step run 200\n",
    "TSR3 = [] #2step run 300\n",
    "for i in range(10000):\n",
    "    f = .05 + .035*random()\n",
    "    Ds = .009 + .006*random()\n",
    "    D = .0009 + .0006*random()\n",
    "    SigN = ivim(B,f,Ds,D)\n",
    "    S = NoiseRice(SigN,.01) #rician noise\n",
    "    [fB,DsB,DB],[ferr,Dserr,Derr] = twosteprun(f,Ds,D,S,5)\n",
    "    TSR5.append(ferr),TSR5.append(Dserr),TSR5.append(Derr)\n",
    "    [fB,DsB,DB],[ferr3,Dserr3,Derr3] = twosteprun(f,Ds,D,S,3)\n",
    "    TSR3.append(ferr3),TSR3.append(Dserr3),TSR3.append(Derr3)\n",
    "    [fB,DsB,DB],[ferr2,Dserr2,Derr2] = twosteprun(f,Ds,D,S,2)\n",
    "    TSR2.append(ferr2),TSR2.append(Dserr2),TSR2.append(Derr2)\n"
   ]
  },
  {
   "cell_type": "code",
   "execution_count": 11,
   "metadata": {},
   "outputs": [
    {
     "data": {
      "image/png": "[encoded data removed]",
      "text/plain": [
       "<Figure size 432x288 with 1 Axes>"
      ]
     },
     "metadata": {
      "needs_background": "light"
     },
     "output_type": "display_data"
    },
    {
     "name": "stdout",
     "output_type": "stream",
     "text": [
      "average error:  -1.7759779990965907\n",
      "average error:  -119.36006036400093\n",
      "average error:  -175.29644986714516\n",
      "absolute error:  25.60756819908694\n",
      "absolute error:  144.04894994181896\n",
      "absolute error:  202.25172917123356\n"
     ]
    }
   ],
   "source": [
    "# just making plots for draft of paper, compare B_500 = 2, vs 5 (for example)\n",
    "# with GAUSSIAN noise\n",
    "#pl.title('Percent Error Distribution Rician Noise')\n",
    "pl.hist(TSR2,bins = 100,range =(-1000,200),histtype = 'step',label = '$b_t = 222$')\n",
    "pl.hist(TSR3,bins = 100,range=(-1000,200),histtype = 'step',label = '$b_t = 333$')\n",
    "pl.hist(TSR5,bins = 100,range=(-1000,200),histtype = 'step',label = '$b_t = 556$')\n",
    "\n",
    "\n",
    "pl.legend(loc=2)\n",
    "pl.text(-990,3000,'10000 runs\\n222 MPE = -27.1%\\n333 MPE = -123.6%\\n556 MPE = -93.9%')\n",
    "pl.text(-990,1000,'222 MAPD = 45.7%\\n333 MAPD = 157.7%\\n556 MAPD = 128.1%')\n",
    "pl.ylabel('Counts')\n",
    "pl.xlabel('Percent Error')\n",
    "#pl.savefig('/Users/neuroimaging/Desktop/btdistribution.tif',dpi=1000)\n",
    "pl.show()\n",
    "\n",
    "print('average error: ',np.mean(TSR2))\n",
    "print('average error: ',np.mean(TSR3))\n",
    "print('average error: ',np.mean(TSR5))\n",
    "print('absolute error: ', np.sum([abs(i) for i in TSR2])/len(TSR2))\n",
    "print('absolute error: ', np.sum([abs(i) for i in TSR3])/len(TSR3))\n",
    "print('absolute error: ', np.sum([abs(i) for i in TSR5])/len(TSR5))"
   ]
  },
  {
   "cell_type": "code",
   "execution_count": 4,
   "metadata": {},
   "outputs": [],
   "source": [
    "# Comparing b values for split fit\n",
    "TSR5 = [] #2step run 500\n",
    "TSR2 = [] #2step run 200\n",
    "TSR3 = [] #2step run 300\n",
    "for i in range(10000):\n",
    "    f = .05 + .035*random()\n",
    "    Ds = .009 + .006*random()\n",
    "    D = .0009 + .0006*random()\n",
    "    SigN = ivim(B,f,Ds,D)\n",
    "    S = NoiseRice(SigN,.01) #rician noise\n",
    "    [fB,DsB,DB],[ferr,Dserr,Derr] = splitrun(f,Ds,D,S,5)\n",
    "    TSR5.append(ferr),TSR5.append(Dserr),TSR5.append(Derr)\n",
    "    [fB,DsB,DB],[ferr3,Dserr3,Derr3] = splitrun(f,Ds,D,S,3)\n",
    "    TSR3.append(ferr3),TSR3.append(Dserr3),TSR3.append(Derr3)\n",
    "    [fB,DsB,DB],[ferr2,Dserr2,Derr2] = splitrun(f,Ds,D,S,2)\n",
    "    TSR2.append(ferr2),TSR2.append(Dserr2),TSR2.append(Derr2)\n"
   ]
  },
  {
   "cell_type": "code",
   "execution_count": 5,
   "metadata": {},
   "outputs": [
    {
     "data": {
      "image/png": "[encoded data removed]",
      "text/plain": [
       "<Figure size 432x288 with 1 Axes>"
      ]
     },
     "metadata": {
      "needs_background": "light"
     },
     "output_type": "display_data"
    },
    {
     "name": "stdout",
     "output_type": "stream",
     "text": [
      "average error:  -126.91548925481962\n",
      "average error:  -109.78147615755041\n",
      "average error:  -139.9316214348476\n",
      "absolute error:  168.25317644307896\n",
      "absolute error:  150.24248274080165\n",
      "absolute error:  182.91273206858213\n"
     ]
    }
   ],
   "source": [
    "# just making plots for draft of paper, compare B_500 = 2, vs 5 (for example)\n",
    "# with GAUSSIAN noise\n",
    "#pl.title('Percent Error Distribution Rician Noise')\n",
    "pl.hist(TSR2,bins = 100,range =(-1000,200),histtype = 'step',label = '$b_t = 222$')\n",
    "pl.hist(TSR3,bins = 100,range=(-1000,200),histtype = 'step',label = '$b_t = 333$')\n",
    "pl.hist(TSR5,bins = 100,range=(-1000,200),histtype = 'step',label = '$b_t = 556$')\n",
    "\n",
    "\n",
    "pl.legend(loc=2)\n",
    "pl.text(-990,3000,'10000 runs\\n222 MPE = -27.1%\\n333 MPE = -123.6%\\n556 MPE = -93.9%')\n",
    "pl.text(-990,1000,'222 MAPD = 45.7%\\n333 MAPD = 157.7%\\n556 MAPD = 128.1%')\n",
    "pl.ylabel('Counts')\n",
    "pl.xlabel('Percent Error')\n",
    "#pl.savefig('/Users/neuroimaging/Desktop/btdistribution.tif',dpi=1000)\n",
    "pl.show()\n",
    "\n",
    "print('average error: ',np.mean(TSR2))\n",
    "print('average error: ',np.mean(TSR3))\n",
    "print('average error: ',np.mean(TSR5))\n",
    "print('absolute error: ', np.sum([abs(i) for i in TSR2])/len(TSR2))\n",
    "print('absolute error: ', np.sum([abs(i) for i in TSR3])/len(TSR3))\n",
    "print('absolute error: ', np.sum([abs(i) for i in TSR5])/len(TSR5))"
   ]
  },
  {
   "cell_type": "markdown",
   "metadata": {},
   "source": [
    "# Fit Algorithms"
   ]
  },
  {
   "cell_type": "code",
   "execution_count": null,
   "metadata": {},
   "outputs": [],
   "source": [
    "# comparing all fits on same initial values for consistency\n",
    "#B = [0,111, 222, 333, 444, 556, 667, 778, 889, 1000]\n",
    "TSR2step = [] #2step run b = 200\n",
    "TSRsplit = [] #split run b = 200\n",
    "TSRsimple = [] # no threshold b\n",
    "for i in range(10000):\n",
    "    f = .05 + .035*random()\n",
    "    Ds = .009 + .006*random()\n",
    "    D = .0009 + .0006*random()\n",
    "    SigN = ivim(B,f,Ds,D)\n",
    "    S = NoiseRice(SigN,.01) #rician noise\n",
    "    [fB,DsB,DB],[ferr,Dserr,Derr] = twosteprun(f,Ds,D,S,2)\n",
    "    TSR2step.append(ferr),TSR2step.append(Dserr),TSR2step.append(Derr)\n",
    "    [fB,DsB,DB],[ferr3,Dserr3,Derr3] = splitrun(f,Ds,D,S,2)\n",
    "    TSRsplit.append(ferr3),TSRsplit.append(Dserr3),TSRsplit.append(Derr3)\n",
    "    [fB,DsB,DB],[ferr2,Dserr2,Derr2] = simplerun(f,Ds,D,S)\n",
    "    TSRsimple.append(ferr2),TSRsimple.append(Dserr2),TSRsimple.append(Derr2)\n"
   ]
  },
  {
   "cell_type": "code",
   "execution_count": null,
   "metadata": {},
   "outputs": [],
   "source": [
    "# just making plots for draft of paper, compare B_500 = 2, vs 5 (for example)\n",
    "# with RICIAN noise\n",
    "#pl.title('Percent Error Distribution Rician Noise')\n",
    "pl.hist(TSR2,bins = 100,range =(-1000,200),histtype = 'step',label = '2step')\n",
    "pl.hist(TSRsplit,bins = 100,range=(-1000,200),histtype = 'step',label = 'split')\n",
    "pl.hist(TSRsimple,bins = 100,range=(-1000,200),histtype = 'step',label = 'simple')\n",
    "\n",
    "\n",
    "pl.legend(loc=2)\n",
    "pl.text(-990,3000,'10000 runs\\n2step MPE = -27.0%\\nsplit MPE = -517.7%\\nsimple MPE = -21.0%')\n",
    "pl.text(-990,1000,'2step MAPD = 45.7%\\nsplit MAPD = 589.3%\\nsimple MAPD = 127.9%')\n",
    "pl.xlabel('Percent Error')\n",
    "pl.ylabel('Counts')\n",
    "pl.savefig('/Users/neuroimaging/Desktop/fitalgdistribution.tif',dpi=1000)\n",
    "pl.show()\n",
    "\n",
    "print('average error: ',np.mean(TSR2))\n",
    "print('average error: ',np.mean(TSRsplit))\n",
    "print('average error: ',np.mean(TSRsimple))\n",
    "print('absolute error: ', np.sum([abs(i) for i in TSR2])/len(TSR2))\n",
    "print('absolute error: ', np.sum([abs(i) for i in TSRsplit])/len(TSRsplit))\n",
    "print('absolute error: ', np.sum([abs(i) for i in TSRsimple])/len(TSRsimple))\n"
   ]
  },
  {
   "cell_type": "markdown",
   "metadata": {},
   "source": [
    "# Number of b values\n",
    "## edit: now comparing to previous literature b values, with 2step run. See IVIM_PatientbValues_Sim.ipynb"
   ]
  },
  {
   "cell_type": "markdown",
   "metadata": {},
   "source": [
    "# comparing NUMBER OF b values for 2step run\n",
    "B5 = [0,111,222,556,778,1000]\n",
    "B10 = [0,111, 222, 333, 444, 556, 667, 778, 889, 1000]\n",
    "B19 = [0, 22, 44, 67, 89, 111, 133, 156, 178, 200, 222, 333, 444, 556, 667, 778, 889, 1000]\n",
    "TSR10 = [] #2step run 10 B values\n",
    "TSR19 = [] #2step run 19 B values\n",
    "TSR5 = [] #2step run 5 B values\n",
    "for i in range(10000):\n",
    "    f = .05 + .035*random()\n",
    "    Ds = .009 + .006*random()\n",
    "    D = .0009 + .0006*random()\n",
    "    #5 b values\n",
    "    Sig5 = ivim(B5,f,Ds,D)\n",
    "    S5 = NoiseRice(Sig5,.0135) #rician noise\n",
    "    [fB,DsB,DB],[ferr,Dserr,Derr] = twosteprunBs(f,Ds,D,S5,2,B5)\n",
    "    TSR5.append(ferr),TSR5.append(Dserr),TSR5.append(Derr)\n",
    "    #10 b values\n",
    "    Sig10 = ivim(B10,f,Ds,D)\n",
    "    S10 = NoiseR(Sig10) #rician noise\n",
    "    [fB,DsB,DB],[ferr,Dserr,Derr] = twosteprunBs(f,Ds,D,S10,2,B10)\n",
    "    TSR10.append(ferr),TSR10.append(Dserr),TSR10.append(Derr)\n",
    "    #19 b values\n",
    "    Sig19 = ivim(B19,f,Ds,D)\n",
    "    S19 = NoiseR(Sig19) #rician noise\n",
    "    [fB,DsB,DB],[ferr,Dserr,Derr] = twosteprunBs(f,Ds,D,S19,11,B19)\n",
    "    TSR19.append(ferr),TSR19.append(Dserr),TSR19.append(Derr)\n",
    "    "
   ]
  },
  {
   "cell_type": "markdown",
   "metadata": {},
   "source": [
    "#pl.title('Percent Error Distribution Rician Noise')\n",
    "pl.hist(TSR5,bins = 100,range=(-1000,200),histtype = 'step',label = '5 B vals')\n",
    "\n",
    "pl.hist(TSR10,bins = 100,range =(-1000,200),histtype = 'step',label = '10 B vals')\n",
    "pl.hist(TSR19,bins = 100,range=(-1000,200),histtype = 'step',label = '19 B vals')\n",
    "\n",
    "pl.legend(loc=2)\n",
    "pl.text(-990,3000,'10000 runs\\n5 MPE = -34.5%\\n10 MPE = -27.2%\\n19 MPE = -26.6%')\n",
    "pl.text(-990,1000,'5 MAPD = 52.6%\\n10 MAPD = 46.1%\\n19 MAPD = 54.4%')\n",
    "#pl.savefig('/Users/neuroimaging/Desktop/PercentErrorB_500Rician.tif',dpi=180)\n",
    "pl.show()\n",
    "\n",
    "print('average error: ',np.mean(TSR5))\n",
    "print('average error: ',np.mean(TSR10))\n",
    "print('average error: ',np.mean(TSR19))\n",
    "print('absolute error: ', np.sum([abs(i) for i in TSR5])/len(TSR5))\n",
    "print('absolute error: ', np.sum([abs(i) for i in TSR10])/len(TSR10))\n",
    "print('absolute error: ', np.sum([abs(i) for i in TSR19])/len(TSR19))"
   ]
  },
  {
   "cell_type": "markdown",
   "metadata": {
    "collapsed": true
   },
   "source": [
    "# comparing NUMBER OF b values for simple run\n",
    "B5 = [0,111,222,444,667,888,1000]\n",
    "B10 = [0,111, 222, 333, 444, 556, 667, 778, 889, 1000]\n",
    "B19 = [0,0, 22, 44, 67, 89, 111, 133, 156, 178, 200, 222, 333, 444, 556, 667, 778, 889, 1000]\n",
    "TSR10 = [] #2step run 10 B values\n",
    "TSR19 = [] #2step run 19 B values\n",
    "TSR5 = [] #2step run 5 B values\n",
    "for i in range(100):\n",
    "    f = .05 + .035*random()\n",
    "    Ds = .009 + .006*random()\n",
    "    D = .0009 + .0006*random()\n",
    "    #5 b values\n",
    "    Sig5 = ivim(B5,f,Ds,D)\n",
    "    S5 = NoiseR(Sig5) #rician noise\n",
    "    [fB,DsB,DB],[ferr,Dserr,Derr] = simplerunBs(f,Ds,D,S5,B5)\n",
    "    TSR5.append(ferr),TSR5.append(Dserr),TSR5.append(Derr)\n",
    "    #10 b values\n",
    "    Sig10 = ivim(B10,f,Ds,D)\n",
    "    S10 = NoiseR(Sig10) #rician noise\n",
    "    [fB,DsB,DB],[ferr,Dserr,Derr] = simplerunBs(f,Ds,D,S10,B10)\n",
    "    TSR10.append(ferr),TSR10.append(Dserr),TSR10.append(Derr)\n",
    "    #19 b values\n",
    "    Sig19 = ivim(B19,f,Ds,D)\n",
    "    S19 = NoiseR(Sig19) #rician noise\n",
    "    [fB,DsB,DB],[ferr,Dserr,Derr] = simplerunBs(f,Ds,D,S19,B19)\n",
    "    TSR19.append(ferr),TSR19.append(Dserr),TSR19.append(Derr)\n",
    "    "
   ]
  },
  {
   "cell_type": "code",
   "execution_count": 12,
   "metadata": {},
   "outputs": [
    {
     "name": "stdout",
     "output_type": "stream",
     "text": [
      "average error:  -35.165492206\n",
      "average error:  -19.9260557325\n",
      "average error:  42.509813818\n",
      "absolute error:  144.397282455\n",
      "absolute error:  128.653896983\n",
      "absolute error:  74.3102620166\n"
     ]
    }
   ],
   "source": [
    "#pl.title('Percent Error Distribution Rician Noise')\n",
    "#pl.hist(TSR5,bins = 100,range=(-1000,200),histtype = 'step',label = '5 B vals')\n",
    "\n",
    "#pl.hist(TSR10,bins = 100,range =(-1000,200),histtype = 'step',label = '10 B vals')\n",
    "#pl.hist(TSR19,bins = 100,range=(-1000,200),histtype = 'step',label = '19 B vals')\n",
    "\n",
    "#pl.legend(loc=2)\n",
    "#pl.text(-990,3000,'10000 runs\\n5 MPE = -34.5%\\n10 MPE = -27.2%\\n19 MPE = -26.6%')\n",
    "#pl.text(-990,1000,'5 MAPD = 52.6%\\n10 MAPD = 46.1%\\n19 MAPD = 54.4%')\n",
    "#pl.savefig('/Users/neuroimaging/Desktop/PercentErrorB_500Rician.tif',dpi=180)\n",
    "#pl.show()\n",
    "\n",
    "print('average error: ',np.mean(TSR5))\n",
    "print('average error: ',np.mean(TSR10))\n",
    "print('average error: ',np.mean(TSR19))\n",
    "print('absolute error: ', np.sum([abs(i) for i in TSR5])/len(TSR5))\n",
    "print('absolute error: ', np.sum([abs(i) for i in TSR10])/len(TSR10))\n",
    "print('absolute error: ', np.sum([abs(i) for i in TSR19])/len(TSR19))"
   ]
  },
  {
   "cell_type": "code",
   "execution_count": 37,
   "metadata": {},
   "outputs": [
    {
     "name": "stderr",
     "output_type": "stream",
     "text": [
      "/Users/Mira/anaconda3/lib/python3.6/site-packages/scipy/optimize/minpack.py:779: OptimizeWarning: Covariance of the parameters could not be estimated\n",
      "  category=OptimizeWarning)\n"
     ]
    }
   ],
   "source": [
    "# comparing NUMBER OF b values for 2step run\n",
    "B5 = [0,111,222,444,667,888,1000]\n",
    "B10 = [0,111, 222, 333, 444, 556, 667, 778, 889, 1000]\n",
    "B19 = [0,0, 22, 44, 67, 89, 111, 133, 156, 178, 200, 222, 333, 444, 556, 667, 778, 889, 1000]\n",
    "TSR10 = [] #2step run 10 B values\n",
    "TSR19 = [] #2step run 19 B values\n",
    "TSR5 = [] #2step run 5 B values\n",
    "for i in range(10000):\n",
    "    f = .05 + .035*random()\n",
    "    Ds = .009 + .006*random()\n",
    "    D = .0009 + .0006*random()\n",
    "    #5 b values\n",
    "    Sig5 = ivim(B5,f,Ds,D)\n",
    "    S5 = NoiseR(Sig5) #rician noise\n",
    "    [fB,DsB,DB],[ferr,Dserr,Derr] = twosteprunBs(f,Ds,D,S5,2,B5)\n",
    "    TSR5.append(ferr),TSR5.append(Dserr),TSR5.append(Derr)\n",
    "    #10 b values\n",
    "    Sig10 = ivim(B10,f,Ds,D)\n",
    "    S10 = NoiseR(Sig10) #rician noise\n",
    "    [fB,DsB,DB],[ferr,Dserr,Derr] = twosteprunBs(f,Ds,D,S10,2,B10)\n",
    "    TSR10.append(ferr),TSR10.append(Dserr),TSR10.append(Derr)\n",
    "    #19 b values\n",
    "    Sig19 = ivim(B19,f,Ds,D)\n",
    "    S19 = NoiseR(Sig19) #rician noise\n",
    "    [fB,DsB,DB],[ferr,Dserr,Derr] = twosteprunBs(f,Ds,D,S19,11,B19)\n",
    "    TSR19.append(ferr),TSR19.append(Dserr),TSR19.append(Derr)\n",
    "    "
   ]
  },
  {
   "cell_type": "code",
   "execution_count": 40,
   "metadata": {},
   "outputs": [
    {
     "data": {
      "image/png": "[encoded data removed]",
      "text/plain": [
       "<matplotlib.figure.Figure at 0x10ee534a8>"
      ]
     },
     "metadata": {},
     "output_type": "display_data"
    },
    {
     "name": "stdout",
     "output_type": "stream",
     "text": [
      "average error:  -27.8027121384\n",
      "average error:  -26.3966186892\n",
      "average error:  -27.02080042\n",
      "absolute error:  46.211559785\n",
      "absolute error:  44.9526245473\n",
      "absolute error:  53.8352200934\n"
     ]
    }
   ],
   "source": [
    "#pl.title('Percent Error Distribution Rician Noise')\n",
    "pl.hist(TSR5,bins = 100,range=(-1000,200),histtype = 'step',label = '5 b vals')\n",
    "\n",
    "pl.hist(TSR10,bins = 100,range =(-1000,200),histtype = 'step',label = '10 b vals')\n",
    "pl.hist(TSR19,bins = 100,range=(-1000,200),histtype = 'step',label = '19 b vals')\n",
    "\n",
    "pl.legend(loc=2)\n",
    "pl.text(-990,3000,'10000 runs\\n5 MPE = -34.5%\\n10 MPE = -27.2%\\n19 MPE = -26.6%')\n",
    "pl.text(-990,1000,'5 MAPD = 52.6%\\n10 MAPD = 46.1%\\n19 MAPD = 54.4%')\n",
    "pl.xlabel('Percent Error')\n",
    "pl.ylabel('Counts')\n",
    "pl.savefig('/Users/neuroimaging/Desktop/bvalnum.tif',dpi=1000)\n",
    "pl.show()\n",
    "\n",
    "print('average error: ',np.mean(TSR5))\n",
    "print('average error: ',np.mean(TSR10))\n",
    "print('average error: ',np.mean(TSR19))\n",
    "print('absolute error: ', np.sum([abs(i) for i in TSR5])/len(TSR5))\n",
    "print('absolute error: ', np.sum([abs(i) for i in TSR10])/len(TSR10))\n",
    "print('absolute error: ', np.sum([abs(i) for i in TSR19])/len(TSR19))"
   ]
  },
  {
   "cell_type": "markdown",
   "metadata": {},
   "source": [
    "# SNR "
   ]
  },
  {
   "cell_type": "code",
   "execution_count": 72,
   "metadata": {},
   "outputs": [
    {
     "data": {
      "image/png": "[encoded data removed]",
      "text/plain": [
       "<matplotlib.figure.Figure at 0x1a2044e5c0>"
      ]
     },
     "metadata": {},
     "output_type": "display_data"
    }
   ],
   "source": [
    "def NoiseR(I): # noise with rician distribution\n",
    "    N = []\n",
    "    N2 = []\n",
    "    N10 = []\n",
    "    G = []\n",
    "    for i in range(0,len(I)):\n",
    "        g1 = np.random.normal(0,.5,1) #mean, std, #of values\n",
    "        g2 = np.random.normal(0,.5,1)\n",
    "        R = np.sqrt(g1**2 + g2**2)[0]\n",
    "        N.append(R)\n",
    "        N2.append(R/2)\n",
    "        N10.append(R/10)\n",
    "        G.append(g1[0])\n",
    "        #N.append(I[i] +(I[i]/10)*R)\n",
    "    return N,N2,N10,G\n",
    "\n",
    "I = np.linspace(0,10,1000)\n",
    "N,N2,N10,G =NoiseR(I)\n",
    "pl.hist(N,bins = 100,histtype = 'step',label = 'SNR 1')\n",
    "pl.hist(N2,bins = 100,histtype = 'step',label = 'SNR 2')\n",
    "pl.hist(N10,bins = 100,histtype = 'step',label = 'SNR 10')\n",
    "\n",
    "pl.legend()\n",
    "pl.show()\n",
    "#N\n"
   ]
  },
  {
   "cell_type": "markdown",
   "metadata": {},
   "source": [
    "# validation that multiplying gaussian relatively similar to \n",
    "# changing STD. \n",
    "G1 = []\n",
    "G2 = []\n",
    "for i in range(0,1000):\n",
    "    g = np.random.normal(0,1,1) #mean, std, #of values\n",
    "    G1.append(10*g[0])\n",
    "    g2 = np.random.normal(0,10,1)\n",
    "    G2.append(g2[0])\n",
    "pl.hist(G1,bins = 100,histtype = 'step',label = 'sig 10')\n",
    "pl.hist(G2,bins = 100,histtype = 'step',label = 'times 10')\n",
    "pl.legend()\n",
    "pl.show()\n",
    "\n",
    "#YAY OK BASICALLY THE SAME phew. \n"
   ]
  },
  {
   "cell_type": "code",
   "execution_count": 65,
   "metadata": {
    "collapsed": true
   },
   "outputs": [],
   "source": [
    "def NoiseRSNR(I,SNR): # noise with rician distribution\n",
    "    N = [] \n",
    "    for i in range(0,len(I)):\n",
    "        g1 = np.random.normal(0,1,1) #mean, std, #of values\n",
    "        g2 = np.random.normal(0,1,1) #std has been .5... I LIED ABOUT SNR oh no\n",
    "        R = np.sqrt(g1**2 + g2**2)[0]\n",
    "        #N.append(R)\n",
    "        #N2.append(R/2)\n",
    "        #N10.append(R/10)\n",
    "        #G.append(g1[0])\n",
    "        N.append(I[i] +(I[i]/SNR)*R) #SNR = 1,10,22,100,150,inf\n",
    "    return N"
   ]
  },
  {
   "cell_type": "code",
   "execution_count": 66,
   "metadata": {},
   "outputs": [
    {
     "name": "stderr",
     "output_type": "stream",
     "text": [
      "/Users/Mira/anaconda3/lib/python3.6/site-packages/scipy/optimize/minpack.py:779: OptimizeWarning: Covariance of the parameters could not be estimated\n",
      "  category=OptimizeWarning)\n"
     ]
    }
   ],
   "source": [
    "# comparing SNR for 2step, 222, 10 bvals\n",
    "B = [0,111, 222, 333, 444, 556, 667, 778, 889, 1000]\n",
    "TSR = [] #SNR1\n",
    "TSR10 = [] #SNR10\n",
    "TSR22 = [] #SNR22\n",
    "TSR100 = [] #SNR100\n",
    "TSRinf = [] #no noise\n",
    "for i in range(10000):\n",
    "    f = .05 + .035*random()\n",
    "    Ds = .009 + .006*random()\n",
    "    D = .0009 + .0006*random()\n",
    "    #SNR1\n",
    "    Sig = ivim(B,f,Ds,D)\n",
    "    S1 = NoiseRSNR(Sig,1) #SNR1\n",
    "    [fB,DsB,DB],[ferr,Dserr,Derr] = twosteprun(f,Ds,D,S1,2)\n",
    "    TSR.append(ferr),TSR.append(Dserr),TSR.append(Derr)\n",
    "    #SNR10\n",
    "    Sig10 = ivim(B,f,Ds,D)\n",
    "    S10 = NoiseRSNR(Sig10,10) #rician noise\n",
    "    [fB,DsB,DB],[ferr,Dserr,Derr] = twosteprun(f,Ds,D,S10,2)\n",
    "    TSR10.append(ferr),TSR10.append(Dserr),TSR10.append(Derr)\n",
    "    #SNR22\n",
    "    Sig22 = ivim(B,f,Ds,D)\n",
    "    S22 = NoiseRSNR(Sig22,22) #rician noise\n",
    "    [fB,DsB,DB],[ferr,Dserr,Derr] = twosteprun(f,Ds,D,S22,2)\n",
    "    TSR22.append(ferr),TSR22.append(Dserr),TSR22.append(Derr)\n",
    "    #SNR100\n",
    "    Sig100 = ivim(B,f,Ds,D)\n",
    "    S100 = NoiseRSNR(Sig100,100) #rician noise\n",
    "    [fB,DsB,DB],[ferr,Dserr,Derr] = twosteprun(f,Ds,D,S100,2)\n",
    "    TSR100.append(ferr),TSR100.append(Dserr),TSR100.append(Derr)\n",
    "    #SNRinf\n",
    "    Sig = ivim(B,f,Ds,D)\n",
    "    #S22 = NoiseRSNR(Sig22,22) #rician noise\n",
    "    [fB,DsB,DB],[ferr,Dserr,Derr] = twosteprun(f,Ds,D,Sig,2)\n",
    "    TSRinf.append(ferr),TSRinf.append(Dserr),TSRinf.append(Derr)"
   ]
  },
  {
   "cell_type": "code",
   "execution_count": 67,
   "metadata": {},
   "outputs": [
    {
     "data": {
      "image/png": "[encoded data removed]",
      "text/plain": [
       "<matplotlib.figure.Figure at 0x1a15f31710>"
      ]
     },
     "metadata": {},
     "output_type": "display_data"
    },
    {
     "name": "stdout",
     "output_type": "stream",
     "text": [
      "should get worse to better\n",
      "average error 1:  -649.659849034\n",
      "average error 10:  -73.8880495327\n",
      "average error 22:  -23.1686966704\n",
      "average error 100:  -0.399868147322\n",
      "average error inf:  0.5191545162\n",
      "absolute error 1:  720.884185915\n",
      "absolute error 10:  94.2975877841\n",
      "absolute error 22:  42.1298842385\n",
      "absolute error 100:  24.8550946913\n",
      "absolute error: inf 23.1498563018\n"
     ]
    }
   ],
   "source": [
    "#pl.title('Percent Error Distribution Rician Noise')\n",
    "pl.hist(TSR,bins = 100,range=(-1000,200),histtype = 'step',label = 'SNR 1')\n",
    "pl.hist(TSR10,bins = 100,range=(-1000,200),histtype = 'step',label = 'SNR 10')\n",
    "pl.hist(TSR22,bins = 100,range=(-1000,200),histtype = 'step',label = 'SNR 22')\n",
    "pl.hist(TSR100,bins = 100,range =(-1000,200),histtype = 'step',label = 'SNR 100')\n",
    "pl.hist(TSRinf,bins = 100,range=(-1000,200),histtype = 'step',label = 'no noise ')\n",
    "\n",
    "pl.legend(loc=2)\n",
    "#pl.text(-990,3000,'10000 runs\\n5 MPE = -34.5%\\n10 MPE = -27.2%\\n19 MPE = -26.6%')\n",
    "#pl.text(-990,1000,'5 MAPD = 52.6%\\n10 MAPD = 46.1%\\n19 MAPD = 54.4%')\n",
    "pl.xlabel('Percent Error')\n",
    "pl.ylabel('Counts')\n",
    "#pl.savefig('/Users/neuroimaging/Desktop/bvalnum.tif',dpi=1000)\n",
    "pl.show()\n",
    "\n",
    "print('should get worse to better')\n",
    "print('average error 1: ',np.mean(TSR))\n",
    "print('average error 10: ',np.mean(TSR10))\n",
    "print('average error 22: ',np.mean(TSR22))\n",
    "print('average error 100: ',np.mean(TSR100))\n",
    "print('average error inf: ',np.mean(TSRinf))\n",
    "print('absolute error 1: ', np.sum([abs(i) for i in TSR])/len(TSR))\n",
    "print('absolute error 10: ', np.sum([abs(i) for i in TSR10])/len(TSR10))\n",
    "print('absolute error 22: ', np.sum([abs(i) for i in TSR22])/len(TSR22))\n",
    "print('absolute error 100: ', np.sum([abs(i) for i in TSR100])/len(TSR100))\n",
    "print('absolute error: inf', np.sum([abs(i) for i in TSRinf])/len(TSRinf))"
   ]
  },
  {
   "cell_type": "markdown",
   "metadata": {
    "collapsed": true
   },
   "source": [
    "# checking SNR, STD, \n",
    "def NoiseR(I,std): # noise with rician distribution\n",
    "    N = []\n",
    "    N2 = []\n",
    "    N10 = []\n",
    "    G = []\n",
    "    for i in range(0,len(I)):\n",
    "        g1 = np.random.normal(0,std,1) #mean, std, #of values\n",
    "        g2 = np.random.normal(0,std,1)\n",
    "        R = np.sqrt(g1**2 + g2**2)[0]\n",
    "        N.append(R)\n",
    "        N2.append(R/2)\n",
    "        N10.append(R/10)\n",
    "        G.append(g1[0])\n",
    "        #N.append(I[i] +(I[i]/10)*R)\n",
    "    return N,N2,N10,G\n",
    "\n",
    "I = np.linspace(0,10,1000)\n",
    "N,N2,N10,G =NoiseR(I,1)\n",
    "pl.hist(N,bins = 100,histtype = 'step',label = 'SNR 1')\n",
    "pl.hist(N2,bins = 100,histtype = 'step',label = 'SNR 2')\n",
    "pl.hist(N10,bins = 100,histtype = 'step',label = 'SNR 10')\n",
    "pl.title('STD = 1')\n",
    "pl.xlim(0,5)\n",
    "pl.legend()\n",
    "pl.show()\n",
    "#N\n",
    "\n",
    "N,N2,N10,G =NoiseR(I,.5)\n",
    "pl.hist(N,bins = 100,histtype = 'step',label = 'SNR 1')\n",
    "pl.hist(N2,bins = 100,histtype = 'step',label = 'SNR 2')\n",
    "pl.hist(N10,bins = 100,histtype = 'step',label = 'SNR 10')\n",
    "pl.title('STD = .5')\n",
    "pl.legend()\n",
    "pl.xlim(0,5)\n",
    "pl.show()\n",
    "\n",
    "#So SNR = Signal/STD.\n",
    "#small STD = large SNR = smaller distribution = green = good"
   ]
  },
  {
   "cell_type": "markdown",
   "metadata": {},
   "source": [
    "# testing different applications of Rician Noise\n",
    "def NoiseR1(I,SNR): # noise with rician distribution mira's\n",
    "    N = []\n",
    "    for i in range(0,len(I)):\n",
    "        sigma = I[i]/SNR\n",
    "        g1 = np.random.normal(0,.5,1) #mean, std, #of values\n",
    "        g2 = np.random.normal(0,.5,1)\n",
    "        R = np.sqrt(g1**2 + g2**2)[0]\n",
    "        N.append(I[i] + sigma*R)\n",
    "    return N\n",
    "\n",
    "def NoiseR2(I,SNR): # noise with rician distribution aja-fernandez's\n",
    "    N = []\n",
    "    for i in range(0,len(I)):\n",
    "        sigma = I[i]/SNR\n",
    "        g1 = np.random.normal(0,sigma,1) #mean, std, #of values\n",
    "        g2 = np.random.normal(0,sigma,1)\n",
    "        N.append(np.sqrt((I[i] + g1[0])**2 + g2[0]**2))\n",
    "    return N\n",
    "\n",
    "I = np.linspace(0,10,1000)\n",
    "N1 =NoiseR1(I,10)\n",
    "pl.hist(N1,bins = 100,histtype = 'step',label = 'M')\n",
    "N2 =NoiseR2(I,10)\n",
    "pl.hist(N2,bins = 100,histtype = 'step',label = 'aja-fernandez')\n",
    "pl.legend()\n",
    "pl.show()\n",
    "\n",
    "\n",
    "# similar distribution @ SNR = 10 "
   ]
  },
  {
   "cell_type": "markdown",
   "metadata": {},
   "source": [
    "def NoiseRSNR(I,SNR): # noise with rician distribution AJA-FERNANDEZ\n",
    "    N = [] \n",
    "    for i in range(0,len(I)):\n",
    "        sigma = I[i]/SNR\n",
    "        g1 = np.random.normal(0,sigma,1) #mean, std, #of values\n",
    "        g2 = np.random.normal(0,sigma,1)\n",
    "        N.append(np.sqrt((I[i] + g1[0])**2 + g2[0]**2))\n",
    "    return N\n",
    "\n",
    "# comparing SNR for 2step, 222, 10 bvals\n",
    "B = [0,111, 222, 333, 444, 556, 667, 778, 889, 1000]\n",
    "TSR = [] #SNR1\n",
    "TSR5 = [] #SNR5\n",
    "TSR10 = [] #SNR10\n",
    "TSR22 = [] #SNR22\n",
    "TSRinf = [] #no noise\n",
    "for i in range(10000):\n",
    "    f = .05 + .035*random()\n",
    "    Ds = .009 + .006*random()\n",
    "    D = .0009 + .0006*random()\n",
    "    #SNR1\n",
    "    Sig = ivim(B,f,Ds,D)\n",
    "    S1 = NoiseRSNR(Sig,1) #SNR1\n",
    "    [fB,DsB,DB],[ferr,Dserr,Derr] = twosteprun(f,Ds,D,S1,2)\n",
    "    TSR.append(ferr),TSR.append(Dserr),TSR.append(Derr)\n",
    "    #SNR5\n",
    "    Sig5 = ivim(B,f,Ds,D)\n",
    "    S5 = NoiseRSNR(Sig5,5) #rician noise\n",
    "    [fB,DsB,DB],[ferr,Dserr,Derr] = twosteprun(f,Ds,D,S5,2)\n",
    "    TSR5.append(ferr),TSR5.append(Dserr),TSR5.append(Derr)\n",
    "    #SNR10\n",
    "    Sig10 = ivim(B,f,Ds,D)\n",
    "    S10 = NoiseRSNR(Sig10,10) #rician noise\n",
    "    [fB,DsB,DB],[ferr,Dserr,Derr] = twosteprun(f,Ds,D,S10,2)\n",
    "    TSR10.append(ferr),TSR10.append(Dserr),TSR10.append(Derr)\n",
    "    #SNR22\n",
    "    Sig22 = ivim(B,f,Ds,D)\n",
    "    S22 = NoiseRSNR(Sig22,22) #rician noise\n",
    "    [fB,DsB,DB],[ferr,Dserr,Derr] = twosteprun(f,Ds,D,S22,2)\n",
    "    TSR22.append(ferr),TSR22.append(Dserr),TSR22.append(Derr)\n",
    "    #SNRinf\n",
    "    Sig = ivim(B,f,Ds,D)\n",
    "    #S22 = NoiseRSNR(Sig22,22) #rician noise\n",
    "    [fB,DsB,DB],[ferr,Dserr,Derr] = twosteprun(f,Ds,D,Sig,2)\n",
    "    TSRinf.append(ferr),TSRinf.append(Dserr),TSRinf.append(Derr)"
   ]
  },
  {
   "cell_type": "markdown",
   "metadata": {},
   "source": [
    "#pl.title('Percent Error Distribution Rician Noise')\n",
    "pl.hist(TSR,bins = 100,range=(-1000,200),histtype = 'step',label = 'SNR 1')\n",
    "pl.hist(TSR5,bins = 100,range =(-1000,200),histtype = 'step',label = 'SNR 5')\n",
    "pl.hist(TSR10,bins = 100,range=(-1000,200),histtype = 'step',label = 'SNR 10')\n",
    "pl.hist(TSR22,bins = 100,range=(-1000,200),histtype = 'step',label = 'SNR 22')\n",
    "pl.hist(TSRinf,bins = 100,range=(-1000,200),histtype = 'step',label = 'no noise ')\n",
    "\n",
    "pl.legend(loc=2)\n",
    "#pl.text(-990,3000,'10000 runs\\n5 MPE = -34.5%\\n10 MPE = -27.2%\\n19 MPE = -26.6%')\n",
    "#pl.text(-990,1000,'5 MAPD = 52.6%\\n10 MAPD = 46.1%\\n19 MAPD = 54.4%')\n",
    "pl.xlabel('Percent Error')\n",
    "pl.ylabel('Counts')\n",
    "#pl.savefig('/Users/neuroimaging/Desktop/bvalnum.tif',dpi=1000)\n",
    "pl.show()\n",
    "\n",
    "print('should get worse to better')\n",
    "print('average error 1 : ',np.mean(TSR))\n",
    "print('average error 5 : ',np.mean(TSR5))\n",
    "print('average error 10 : ',np.mean(TSR10))\n",
    "print('average error 22 : ',np.mean(TSR22))\n",
    "print('average error inf: ',np.mean(TSRinf))\n",
    "print('absolute error 1: ', np.sum([abs(i) for i in TSR])/len(TSR))\n",
    "print('absolute error 5: ', np.sum([abs(i) for i in TSR5])/len(TSR5))\n",
    "print('absolute error 10: ', np.sum([abs(i) for i in TSR10])/len(TSR10))\n",
    "print('absolute error 22: ', np.sum([abs(i) for i in TSR22])/len(TSR22))\n",
    "print('absolute error inf: ', np.sum([abs(i) for i in TSRinf])/len(TSRinf))"
   ]
  },
  {
   "cell_type": "markdown",
   "metadata": {},
   "source": [
    "def NoiseRSNR(I,SNR): # noise with ACTUAL-rician distribution MIRA\n",
    "    N = [] \n",
    "    r = rice.rvs(b,scale=1/SNR, size=len(I))\n",
    "    for i in range(0,len(I)):\n",
    "        N.append(I[i] + r[i]*I[i])\n",
    "    return N\n",
    "\n",
    "# comparing SNR for 2step, 222, 10 bvals\n",
    "B = [0,111, 222, 333, 444, 556, 667, 778, 889, 1000]\n",
    "TSR = [] #SNR1\n",
    "TSR5 = [] #SNR5\n",
    "TSR10 = [] #SNR10\n",
    "TSR22 = [] #SNR22\n",
    "TSRinf = [] #no noise\n",
    "for i in range(10000):\n",
    "    f = .05 + .035*random()\n",
    "    Ds = .009 + .006*random()\n",
    "    D = .0009 + .0006*random()\n",
    "    #SNR1\n",
    "    Sig = ivim(B,f,Ds,D)\n",
    "    S1 = NoiseRSNR(Sig,1) #SNR1\n",
    "    [fB,DsB,DB],[ferr,Dserr,Derr] = twosteprun(f,Ds,D,S1,2)\n",
    "    TSR.append(ferr),TSR.append(Dserr),TSR.append(Derr)\n",
    "    #SNR5\n",
    "    Sig5 = ivim(B,f,Ds,D)\n",
    "    S5 = NoiseRSNR(Sig5,5) #rician noise\n",
    "    [fB,DsB,DB],[ferr,Dserr,Derr] = twosteprun(f,Ds,D,S5,2)\n",
    "    TSR5.append(ferr),TSR5.append(Dserr),TSR5.append(Derr)\n",
    "    #SNR10\n",
    "    Sig10 = ivim(B,f,Ds,D)\n",
    "    S10 = NoiseRSNR(Sig10,10) #rician noise\n",
    "    [fB,DsB,DB],[ferr,Dserr,Derr] = twosteprun(f,Ds,D,S10,2)\n",
    "    TSR10.append(ferr),TSR10.append(Dserr),TSR10.append(Derr)\n",
    "    #SNR22\n",
    "    Sig22 = ivim(B,f,Ds,D)\n",
    "    S22 = NoiseRSNR(Sig22,22) #rician noise\n",
    "    [fB,DsB,DB],[ferr,Dserr,Derr] = twosteprun(f,Ds,D,S22,2)\n",
    "    TSR22.append(ferr),TSR22.append(Dserr),TSR22.append(Derr)\n",
    "    #SNRinf\n",
    "    Sig = ivim(B,f,Ds,D)\n",
    "    #S22 = NoiseRSNR(Sig22,22) #rician noise\n",
    "    [fB,DsB,DB],[ferr,Dserr,Derr] = twosteprun(f,Ds,D,Sig,2)\n",
    "    TSRinf.append(ferr),TSRinf.append(Dserr),TSRinf.append(Derr)"
   ]
  },
  {
   "cell_type": "markdown",
   "metadata": {},
   "source": [
    "# run with 'Actual' Rician noise\n",
    "#pl.title('Percent Error Distribution Rician Noise')\n",
    "pl.hist(TSR,bins = 100,range=(-1000,200),histtype = 'step',label = 'SNR 1')\n",
    "pl.hist(TSR5,bins = 100,range =(-1000,200),histtype = 'step',label = 'SNR 5')\n",
    "pl.hist(TSR10,bins = 100,range=(-1000,200),histtype = 'step',label = 'SNR 10')\n",
    "pl.hist(TSR22,bins = 100,range=(-1000,200),histtype = 'step',label = 'SNR 22')\n",
    "pl.hist(TSRinf,bins = 100,range=(-1000,200),histtype = 'step',label = 'no noise ')\n",
    "\n",
    "pl.legend(loc=2)\n",
    "#pl.text(-990,3000,'10000 runs\\n5 MPE = -34.5%\\n10 MPE = -27.2%\\n19 MPE = -26.6%')\n",
    "#pl.text(-990,1000,'5 MAPD = 52.6%\\n10 MAPD = 46.1%\\n19 MAPD = 54.4%')\n",
    "pl.xlabel('Percent Error')\n",
    "pl.ylabel('Counts')\n",
    "#pl.savefig('/Users/neuroimaging/Desktop/bvalnum.tif',dpi=1000)\n",
    "pl.show()\n",
    "\n",
    "print('should get worse to better')\n",
    "print('average error 1 : ',np.mean(TSR))\n",
    "print('average error 5 : ',np.mean(TSR5))\n",
    "print('average error 10 : ',np.mean(TSR10))\n",
    "print('average error 22 : ',np.mean(TSR22))\n",
    "print('average error inf: ',np.mean(TSRinf))\n",
    "print('absolute error 1: ', np.sum([abs(i) for i in TSR])/len(TSR))\n",
    "print('absolute error 5: ', np.sum([abs(i) for i in TSR5])/len(TSR5))\n",
    "print('absolute error 10: ', np.sum([abs(i) for i in TSR10])/len(TSR10))\n",
    "print('absolute error 22: ', np.sum([abs(i) for i in TSR22])/len(TSR22))\n",
    "print('absolute error inf: ', np.sum([abs(i) for i in TSRinf])/len(TSRinf))"
   ]
  },
  {
   "cell_type": "code",
   "execution_count": 84,
   "metadata": {},
   "outputs": [
    {
     "data": {
      "image/png": "[encoded data removed]",
      "text/plain": [
       "<matplotlib.figure.Figure at 0x1a16abbc18>"
      ]
     },
     "metadata": {},
     "output_type": "display_data"
    },
    {
     "data": {
      "image/png": "[encoded data removed]",
      "text/plain": [
       "<matplotlib.figure.Figure at 0x1a1607ba20>"
      ]
     },
     "metadata": {},
     "output_type": "display_data"
    },
    {
     "data": {
      "image/png": "[encoded data removed]",
      "text/plain": [
       "<matplotlib.figure.Figure at 0x1a0d3809b0>"
      ]
     },
     "metadata": {},
     "output_type": "display_data"
    }
   ],
   "source": [
    "from scipy.stats import rice\n",
    "b =1\n",
    "def NoiseR(I): # noise with rician distribution\n",
    "    N = []\n",
    "    N2 = []\n",
    "    N10 = []\n",
    "    G = []\n",
    "    for i in range(0,len(I)):\n",
    "        g1 = np.random.normal(0,1,1) #mean, std, #of values\n",
    "        g2 = np.random.normal(0,1,1)\n",
    "        R = np.sqrt(g1**2 + g2**2)[0]\n",
    "        N.append(R)\n",
    "        N2.append(R/2)\n",
    "        N10.append(R/10)\n",
    "        G.append(g1[0])\n",
    "        #N.append(I[i] +(I[i]/10)*R)\n",
    "    return N,N2,N10,G\n",
    "\n",
    "I = np.linspace(0,10,1000)\n",
    "N,N2,N10,G =NoiseR(I)\n",
    "r = rice.rvs(b,scale=1, size=1000) #rician distribution histogram\n",
    "pl.hist(N,bins = 100,histtype = 'step',label = 'SNR 1')\n",
    "pl.hist(r,bins=100,histtype='step',label='rice 1')\n",
    "pl.legend()\n",
    "pl.show()\n",
    "r = rice.rvs(b,scale=1/2, size=1000) #rician distribution histogram\n",
    "pl.hist(r,bins=100,histtype='step',label='rice 2')\n",
    "pl.hist(N2,bins = 100,histtype = 'step',label = 'SNR 2')\n",
    "pl.legend()\n",
    "pl.show()\n",
    "\n",
    "r = rice.rvs(b,scale=1/10, size=1000) #rician distribution histogram\n",
    "pl.hist(r,bins=100,histtype='step',label='rice 10')\n",
    "pl.hist(N10,bins = 100,histtype = 'step',label = 'SNR 10')\n",
    "pl.legend()\n",
    "pl.show()\n",
    "\n",
    "# yay ok it seems to be working, my way of generating noise seems to \n",
    "# match Rician noise ish!\n",
    "# could also just use... Rician noise..."
   ]
  },
  {
   "cell_type": "code",
   "execution_count": 85,
   "metadata": {},
   "outputs": [
    {
     "name": "stdout",
     "output_type": "stream",
     "text": [
      "0.0775837182934\n",
      "0.066061820024\n"
     ]
    }
   ],
   "source": [
    "S = rice.std(b, loc=0, scale=1/10)\n",
    "print(S)\n",
    "N,N2,N10,G = NoiseR(I)\n",
    "print(np.std(N10))"
   ]
  },
  {
   "cell_type": "code",
   "execution_count": null,
   "metadata": {
    "collapsed": true
   },
   "outputs": [],
   "source": [
    "#take b = 0, look at mean signal of dog's brain \n",
    "# and divide by std of 'air' (corner of plot)\n",
    "\n",
    "# ADC: apparent diffusion coefficient, is it D from IVIM?\n"
   ]
  }
 ],
 "metadata": {
  "kernelspec": {
   "display_name": "Python 3",
   "language": "python",
   "name": "python3"
  },
  "language_info": {
   "codemirror_mode": {
    "name": "ipython",
    "version": 3
   },
   "file_extension": ".py",
   "mimetype": "text/x-python",
   "name": "python",
   "nbconvert_exporter": "python",
   "pygments_lexer": "ipython3",
   "version": "3.7.4"
  }
 },
 "nbformat": 4,
 "nbformat_minor": 2
}
