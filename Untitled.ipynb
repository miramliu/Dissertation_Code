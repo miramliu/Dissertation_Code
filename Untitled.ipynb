{
 "cells": [
  {
   "cell_type": "code",
   "execution_count": 1,
   "metadata": {},
   "outputs": [],
   "source": [
    "import numpy as np\n",
    "import matplotlib\n",
    "import matplotlib.pyplot as pl\n",
    "%matplotlib inline\n",
    "import csv\n",
    "import scipy.optimize as op\n",
    "import scipy.stats as stats\n",
    "from scipy.optimize import curve_fit\n",
    "import scipy.io \n",
    "from scipy.stats import rice\n",
    "from mpl_toolkits.mplot3d import Axes3D\n",
    "\n",
    "import random\n",
    "import pickle\n",
    "import seaborn as sns\n",
    "\n",
    "import numpy as np\n",
    "from scipy.stats import ttest_ind, ttest_ind_from_stats, wilcoxon,ttest_rel, pearsonr\n",
    "from scipy.special import stdtr\n",
    "import csv\n",
    "import pandas as pd\n",
    "\n",
    "import sys \n",
    "import os\n",
    "sys.path.append(os.path.abspath(\"/Users/neuroimaging/Desktop/MR-code/Python_Code/\"))\n",
    "from Data20200706 import *"
   ]
  },
  {
   "cell_type": "code",
   "execution_count": null,
   "metadata": {},
   "outputs": [],
   "source": []
  }
 ],
 "metadata": {
  "kernelspec": {
   "display_name": "Python 3",
   "language": "python",
   "name": "python3"
  },
  "language_info": {
   "codemirror_mode": {
    "name": "ipython",
    "version": 3
   },
   "file_extension": ".py",
   "mimetype": "text/x-python",
   "name": "python",
   "nbconvert_exporter": "python",
   "pygments_lexer": "ipython3",
   "version": "3.7.4"
  }
 },
 "nbformat": 4,
 "nbformat_minor": 2
}
